import pandas as pd
from ydata_profiling import ProfileReport
from datetime import datetime
import numpy as np
import matplotlib.pyplot as plt
import seaborn as sns
import os
from sklearn.model_selection import train_test_split, KFold
from sklearn import metrics
pd.set_option('display.max_columns', 100)
import sys
import importlib
from mymod import preprocess
sys.path.append('../')
from analib.table import LightGBM, benchmark


import mymod
importlib.reload(mymod)
from mymod import preprocess


df_train = pd.read_csv('/dataset/signate_beginner36/train.csv')
df_test = pd.read_csv('/dataset/signate_beginner36/test.csv')
df_train


df_train.dtypes


df_train.describe().round(3)


# report = ProfileReport(df_train,
#                 title='SIGNATE Beginner 36',
#                 # infer_dtypes=False,
#                 # interactions=None,
#                 # missing_diagrams=None,
#                 # correlations={"auto": {"calculate": True},
#                 #               "pearson": {"calculate": True},
#                 #               "spearman": {"calculate": True}}
# )
# report.to_notebook_iframe()
# report.to_file("signate_beginner36.html");


df_train['EmployeeNumber'].value_counts()


df_train['SumSatisfaction'] = df_train[['EnvironmentSatisfaction', 'JobSatisfaction', 'RelationshipSatisfaction']].sum(axis=1)


fig, ax = plt.subplots(figsize=(12, 9)) 
sns.heatmap(df_train.corr(numeric_only=True), square=True, vmax=1, vmin=-1, center=0)


target_label = 'Attrition'
df_X = df_train.drop(columns=target_label)
df_y = df_train[[target_label]].copy()


unique_drop_list = ['id']
drop_list = ['Over18', 'StandardHours', 'EmployeeNumber']
df_X = df_X.drop(columns=unique_drop_list)
df_X = df_X.drop(columns=drop_list)


category_list = [
    'BusinessTravel',
    'Department',
    'EducationField',
    'Gender',
    'JobRole',
    'MaritalStatus',
    'OverTime'
]
category_dict = dict()
for cate in category_list:
    categories = df_X[cate].unique().tolist()
    df_X[cate] = pd.Categorical(df_X[cate], categories=categories)
    category_dict[cate] = categories

df_X_categories = pd.get_dummies(df_X[category_list], drop_first=True)
df_X_categories


df_X_others = df_X.select_dtypes(exclude='category')
df_X_others['SumSatisfaction'] = df_X_others[['EnvironmentSatisfaction', 'JobSatisfaction', 'RelationshipSatisfaction']].sum(axis=1)
df_X_others = df_X_others.drop(columns=['EnvironmentSatisfaction', 'JobSatisfaction', 'RelationshipSatisfaction'])
df_X_others


df_X = pd.concat([df_X_others, df_X_categories], axis=1)
features = [
    'DistanceFromHome',
    'SumSatisfaction',
    'HourlyRate',
    'PercentSalaryHike',
    'Age',
    'DailyRate',
    'MonthlyIncome',
    'YearsWithCurrManager',
    'JobLevel',
    'NumCompaniesWorked',
    'YearsAtCompany',
    'YearsInCurrentRole',
    'OverTime_Yes',
    # 'TotalWorkingYears',
    'StockOptionLevel'
]
df_X = df_X[features]
df_X


X = df_X.copy()
y = df_y.copy()

# 学習データとテストデータに分割
X_train, X_test, y_train, y_test = train_test_split(X, y,
                                                    test_size=0.2,
                                                    random_state=42,
                                                    stratify=y)
# 学習データを学習用と検証用に分割
X_train, X_valid, y_train, y_valid = train_test_split(X_train, y_train,
                                                      test_size=0.2,
                                                      random_state=42,
                                                      stratify=y_train)


import analib.table
importlib.reload(analib)
from analib.table import benchmark
benchmark(X, y)


get_ipython().run_cell_magic("capture", " output", """importlib.reload(analib.table)
from analib.table import CatBoostModel
catc = CatBoostModel(X_train, y_train,
                     X_valid, y_valid,
                     X_test, y_test)
results = catc.turning(X_train, y_train)
import pprint
pprint.pprint(results.best_params_)""")


import pprint
pprint.pprint(results.best_params_)


# CatBoost
catb_params = {
    'loss_function': 'Logloss',    # 多値分類問題
    'iterations': 300,
    'learning_rate': 0.1,
    'depth': 10,
    'l2_leaf_reg': 9,
    # 'num_boost_round': 20000,          # 学習の回数
    'early_stopping_rounds': 100       # アーリーストッピングの回数
}
catc = CatBoostModel(X_train, y_train,
                     X_valid, y_valid,
                     X_test, y_test)
model, y_prob = catc.train(params=catb_params)


y_pred = (y_prob > 0.5).astype(int)


metrics.accuracy_score(y_test, y_pred)
metrics.precision_score(y_true=y_test, y_pred=y_pred)
metrics.recall_score(y_true=y_test, y_pred=y_pred)
metrics.f1_score(y_true=y_test, y_pred=y_pred)
print(metrics.classification_report(
    y_test,
    y_pred,
    target_names=['class_0', 'class_1']))


cm = metrics.confusion_matrix(y_true=y_test, y_pred=y_pred)
TN = str(cm[0, 0]) + '(TN)'
FP = str(cm[0, 1]) + '(FP)'
FN = str(cm[1, 0]) + '(FN)'
TP = str(cm[1, 1]) + '(TP)'

pd.DataFrame(
    data=np.array([[TN, FP],
                   [FN, TP]]),
    index=['actual_Negative', 'acutal_Positive'],
    columns=['predict_Negative', 'predict_Positive']
)


fpr, tpr, _ = metrics.roc_curve(y_test, y_prob)
plt.step(fpr, tpr, color='b', alpha=0.2, where='post')
plt.fill_between(fpr, tpr, step='post', alpha=0.2, color='b')
plt.plot([0, 1], [0, 1], color='navy', linestyle='--')
plt.ylabel('True Positive Rate')
plt.xlabel('False Positive Rate')
plt.ylim([0.0, 1.0])
plt.xlim([0.0, 1.0])
plt.show()


precision, recall, thresholds = metrics.precision_recall_curve(y_test, y_prob)

auc = metrics.auc(recall, precision)
print(auc)

plt.plot(recall, precision, label='PR curve (area = %.2f)'%auc)
plt.legend()
plt.title('PR curve')
plt.xlabel('Recall')
plt.ylabel('Precision')
plt.grid(True)
plt.show()


# 特徴量重要度
feature = X.columns
importance = np.array(model.feature_importance())
df = pd.DataFrame({'feature': feature, 'importance': importance})
df = df.sort_values('importance', ascending=True)

n = len(df)  # 説明変数の項目数を取得
values = df['importance'].values
plt.figure(figsize=(12, 10))
plt.barh(range(n), values)

values = df['feature'].values
plt.yticks(np.arange(n), values) # x, y軸の設定

plt.show()
# ['DistanceFromHome', 'EmployeeNumber', 'HourlyRate', 'PercentSalaryHike', 'Age', 'DailyRate', 'MonthlyIncome', 'YearsWithCurrManager', 'JobLevel', 'NumCompaniesWorked', 'YearAtCompany', 'OverTime_Yes']


X_submit = preprocess(df_test)
y_pred_submit = model.predict(X_submit, prediction_type='Class')
# y_prob_submit = model.predict(X_submit, num_iteration=model.best_iteration)
# y_pred_submit = (y_prob_submit > 0.5).astype(int)
y_pred_submit


pd.concat(
    [df_test.iloc[:, 0], pd.DataFrame(y_pred_submit)],
    axis=1
).to_csv(
    f'output/{datetime.now().strftime("%Y%m%d%H%M%S")}.csv',
    header=False,
    index=False
)



