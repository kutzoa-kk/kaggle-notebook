{
 "cells": [
  {
   "cell_type": "markdown",
   "id": "2e62446a",
   "metadata": {
    "papermill": {
     "duration": 0.005648,
     "end_time": "2023-03-18T15:14:22.034207",
     "exception": false,
     "start_time": "2023-03-18T15:14:22.028559",
     "status": "completed"
    },
    "tags": []
   },
   "source": [
    "In this inference notebook I show that with the correct data pre-processing, model architecture and training setup an LSTM model can achieve the same performance as the current top performing Graph based models.\n",
    "\n",
    "This notebook is based on the notebook originally published with LSTM training and inference: [3 LSTMs; with Data Picking and Shifting](https://www.kaggle.com/code/seungmoklee/3-lstms-with-data-picking-and-shifting). So if you like my notebooks don't forget the work that it is based!\n",
    "\n",
    "This Inference notebook is for the largest part the same. It doesn't use the shifting as applied in the original work, it is based on only using 96 pulses and only 6 features.\n",
    "It does ensemble 3 models but they are from the same training run (just different epochs).\n",
    "\n",
    "Combining models from different model trainings with slightly different hyperparameters will very likely further increase the score. Increasing the number of bins and using more data for training is another way to increase the score of the models. Consider the Inference and Training notebooks a starting point to explore that yourself!\n",
    "\n",
    "The training notebook for these models can be found [here](https://www.kaggle.com/code/rsmits/tensorflow-lstm-model-training-tpu). Note that I performed training on my local laptop (32GB RAM / NVidia 3070). For local training I loaded the files for 70 batches into RAM. The training notebook is equal to my local setup with the change that it loads multiple rounds of training data.\n",
    "\n",
    "In the training notebook I will further explain what the differences are and how I improved the achieved score.\n",
    "\n",
    "I hope you enjoy this notebook and if you do please give it an upvote :-)\n",
    "\n",
    "!! Update in Latest Version: In the comments it was mentioned that using model files from a TPU training caused an error when trying to load the model. I've updated the load_model() with compile = False. This solves the error. Nothing else has changed in the notebook."
   ]
  },
  {
   "cell_type": "code",
   "execution_count": 1,
   "id": "cf824401",
   "metadata": {
    "_cell_guid": "b1076dfc-b9ad-4769-8c92-a6c4dae69d19",
    "_uuid": "8f2839f25d086af736a60e9eeb907d3b93b6e0e5",
    "execution": {
     "iopub.execute_input": "2023-03-18T15:14:22.046052Z",
     "iopub.status.busy": "2023-03-18T15:14:22.045212Z",
     "iopub.status.idle": "2023-03-18T15:14:26.600145Z",
     "shell.execute_reply": "2023-03-18T15:14:26.599185Z"
    },
    "papermill": {
     "duration": 4.564033,
     "end_time": "2023-03-18T15:14:26.603124",
     "exception": false,
     "start_time": "2023-03-18T15:14:22.039091",
     "status": "completed"
    },
    "tags": []
   },
   "outputs": [
    {
     "name": "stderr",
     "output_type": "stream",
     "text": [
      "2023-04-09 08:46:55.906997: I tensorflow/core/platform/cpu_feature_guard.cc:193] This TensorFlow binary is optimized with oneAPI Deep Neural Network Library (oneDNN) to use the following CPU instructions in performance-critical operations:  AVX2 FMA\n",
      "To enable them in other operations, rebuild TensorFlow with the appropriate compiler flags.\n",
      "2023-04-09 08:46:58.179723: W tensorflow/compiler/xla/stream_executor/platform/default/dso_loader.cc:64] Could not load dynamic library 'libnvinfer.so.7'; dlerror: libnvinfer.so.7: cannot open shared object file: No such file or directory; LD_LIBRARY_PATH: /usr/local/cuda/lib64:/usr/local/cuda/lib:/usr/local/lib/x86_64-linux-gnu:/usr/local/nvidia/lib:/usr/local/nvidia/lib64:/usr/local/nvidia/lib:/usr/local/nvidia/lib64:/opt/conda/lib\n",
      "2023-04-09 08:46:58.180851: W tensorflow/compiler/xla/stream_executor/platform/default/dso_loader.cc:64] Could not load dynamic library 'libnvinfer_plugin.so.7'; dlerror: libnvinfer_plugin.so.7: cannot open shared object file: No such file or directory; LD_LIBRARY_PATH: /usr/local/cuda/lib64:/usr/local/cuda/lib:/usr/local/lib/x86_64-linux-gnu:/usr/local/nvidia/lib:/usr/local/nvidia/lib64:/usr/local/nvidia/lib:/usr/local/nvidia/lib64:/opt/conda/lib\n",
      "2023-04-09 08:46:58.180876: W tensorflow/compiler/tf2tensorrt/utils/py_utils.cc:38] TF-TRT Warning: Cannot dlopen some TensorRT libraries. If you would like to use Nvidia GPU with TensorRT, please make sure the missing libraries mentioned above are installed properly.\n"
     ]
    }
   ],
   "source": [
    "# Import Modules\n",
    "import gc\n",
    "import os\n",
    "import multiprocessing\n",
    "import time\n",
    "import numpy as np\n",
    "import pandas as pd\n",
    "import pyarrow.parquet as pq\n",
    "import tensorflow as tf\n",
    "from tqdm.auto import tqdm"
   ]
  },
  {
   "cell_type": "code",
   "execution_count": 2,
   "id": "7ca5481f",
   "metadata": {
    "execution": {
     "iopub.execute_input": "2023-03-18T15:14:26.615284Z",
     "iopub.status.busy": "2023-03-18T15:14:26.614789Z",
     "iopub.status.idle": "2023-03-18T15:14:26.620356Z",
     "shell.execute_reply": "2023-03-18T15:14:26.619404Z"
    },
    "papermill": {
     "duration": 0.013467,
     "end_time": "2023-03-18T15:14:26.622401",
     "exception": false,
     "start_time": "2023-03-18T15:14:26.608934",
     "status": "completed"
    },
    "tags": []
   },
   "outputs": [],
   "source": [
    "# Directories and constants\n",
    "home_dir = \"/kaggle/input/icecube-neutrinos-in-deep-ice/\"\n",
    "test_format = home_dir + 'test/batch_{batch_id:d}.parquet'\n",
    "model_home = \"/kaggle/input/icecubemodels/tf-lstm/\"\n",
    "\n",
    "# Model(s)\n",
    "model_names = [\"tpu_pp96_n6_bin32_batch1024_epoch77.h5\",\n",
    "               \"tpu_pp96_n6_bin32_batch1024_epoch78.h5\", \n",
    "               \"tpu_pp96_n6_bin32_batch1024_epoch79.h5\"]\n",
    "model_weights = np.array([0.30, \n",
    "                          0.30,\n",
    "                          0.40])"
   ]
  },
  {
   "cell_type": "markdown",
   "id": "fae61c32",
   "metadata": {
    "papermill": {
     "duration": 0.004446,
     "end_time": "2023-03-18T15:14:26.631289",
     "exception": false,
     "start_time": "2023-03-18T15:14:26.626843",
     "status": "completed"
    },
    "tags": []
   },
   "source": [
    "## Load Model(s)"
   ]
  },
  {
   "cell_type": "code",
   "execution_count": 3,
   "id": "ff091433",
   "metadata": {
    "execution": {
     "iopub.execute_input": "2023-03-18T15:14:26.642253Z",
     "iopub.status.busy": "2023-03-18T15:14:26.641465Z",
     "iopub.status.idle": "2023-03-18T15:14:44.210762Z",
     "shell.execute_reply": "2023-03-18T15:14:44.209515Z"
    },
    "papermill": {
     "duration": 17.577503,
     "end_time": "2023-03-18T15:14:44.213581",
     "exception": false,
     "start_time": "2023-03-18T15:14:26.636078",
     "status": "completed"
    },
    "tags": []
   },
   "outputs": [
    {
     "name": "stdout",
     "output_type": "stream",
     "text": [
      "\n",
      "========== Model File: tpu_pp96_n6_bin32_batch1024_epoch77.h5\n",
      "Model: \"model\"\n",
      "_________________________________________________________________\n",
      " Layer (type)                Output Shape              Param #   \n",
      "=================================================================\n",
      " input_1 (InputLayer)        [(None, 96, 6)]           0         \n",
      "                                                                 \n",
      " masking (Masking)           (None, 96, 6)             0         \n",
      "                                                                 \n",
      " bidirectional (Bidirectiona  (None, 96, 384)          230400    \n",
      " l)                                                              \n",
      "                                                                 \n",
      " bidirectional_1 (Bidirectio  (None, 96, 384)          665856    \n",
      " nal)                                                            \n",
      "                                                                 \n",
      " bidirectional_2 (Bidirectio  (None, 384)              665856    \n",
      " nal)                                                            \n",
      "                                                                 \n",
      " dense (Dense)               (None, 256)               98560     \n",
      "                                                                 \n",
      " dense_1 (Dense)             (None, 1024)              263168    \n",
      "                                                                 \n",
      "=================================================================\n",
      "Total params: 1,923,840\n",
      "Trainable params: 1,923,840\n",
      "Non-trainable params: 0\n",
      "_________________________________________________________________\n",
      "\n",
      "========== Model File: tpu_pp96_n6_bin32_batch1024_epoch78.h5\n",
      "Model: \"model\"\n",
      "_________________________________________________________________\n",
      " Layer (type)                Output Shape              Param #   \n",
      "=================================================================\n",
      " input_1 (InputLayer)        [(None, 96, 6)]           0         \n",
      "                                                                 \n",
      " masking (Masking)           (None, 96, 6)             0         \n",
      "                                                                 \n",
      " bidirectional (Bidirectiona  (None, 96, 384)          230400    \n",
      " l)                                                              \n",
      "                                                                 \n",
      " bidirectional_1 (Bidirectio  (None, 96, 384)          665856    \n",
      " nal)                                                            \n",
      "                                                                 \n",
      " bidirectional_2 (Bidirectio  (None, 384)              665856    \n",
      " nal)                                                            \n",
      "                                                                 \n",
      " dense (Dense)               (None, 256)               98560     \n",
      "                                                                 \n",
      " dense_1 (Dense)             (None, 1024)              263168    \n",
      "                                                                 \n",
      "=================================================================\n",
      "Total params: 1,923,840\n",
      "Trainable params: 1,923,840\n",
      "Non-trainable params: 0\n",
      "_________________________________________________________________\n",
      "\n",
      "========== Model File: tpu_pp96_n6_bin32_batch1024_epoch79.h5\n",
      "Model: \"model\"\n",
      "_________________________________________________________________\n",
      " Layer (type)                Output Shape              Param #   \n",
      "=================================================================\n",
      " input_1 (InputLayer)        [(None, 96, 6)]           0         \n",
      "                                                                 \n",
      " masking (Masking)           (None, 96, 6)             0         \n",
      "                                                                 \n",
      " bidirectional (Bidirectiona  (None, 96, 384)          230400    \n",
      " l)                                                              \n",
      "                                                                 \n",
      " bidirectional_1 (Bidirectio  (None, 96, 384)          665856    \n",
      " nal)                                                            \n",
      "                                                                 \n",
      " bidirectional_2 (Bidirectio  (None, 384)              665856    \n",
      " nal)                                                            \n",
      "                                                                 \n",
      " dense (Dense)               (None, 256)               98560     \n",
      "                                                                 \n",
      " dense_1 (Dense)             (None, 1024)              263168    \n",
      "                                                                 \n",
      "=================================================================\n",
      "Total params: 1,923,840\n",
      "Trainable params: 1,923,840\n",
      "Non-trainable params: 0\n",
      "_________________________________________________________________\n",
      "\n",
      "==== Model Parameters\n",
      "Bin Numbers: 32\n",
      "Maximum Pulse Count: 96\n",
      "Features Count: 6\n"
     ]
    }
   ],
   "source": [
    "# Load Models\n",
    "models = []\n",
    "for model_name in model_names:\n",
    "    print(f'\\n========== Model File: {model_name}')\n",
    "    \n",
    "    # Load Model\n",
    "    model_path = model_home + model_name\n",
    "    model = tf.keras.models.load_model(model_path, compile = False)\n",
    "    models.append(model)      \n",
    "    \n",
    "    # Model summary\n",
    "    model.summary()\n",
    "    \n",
    "# Get Model Parameters\n",
    "pulse_count = model.inputs[0].shape[1]\n",
    "feature_count = model.inputs[0].shape[2]\n",
    "output_bins = model.layers[-1].weights[0].shape[-1]\n",
    "bin_num = int(np.sqrt(output_bins))\n",
    "\n",
    "# Model Parameter Summary\n",
    "print(\"\\n==== Model Parameters\")\n",
    "print(f\"Bin Numbers: {bin_num}\")\n",
    "print(f\"Maximum Pulse Count: {pulse_count}\")\n",
    "print(f\"Features Count: {feature_count}\")"
   ]
  },
  {
   "cell_type": "markdown",
   "id": "64cee897",
   "metadata": {
    "papermill": {
     "duration": 0.004759,
     "end_time": "2023-03-18T15:14:44.223718",
     "exception": false,
     "start_time": "2023-03-18T15:14:44.218959",
     "status": "completed"
    },
    "tags": []
   },
   "source": [
    "## Detector Information"
   ]
  },
  {
   "cell_type": "code",
   "execution_count": 4,
   "id": "eb474327",
   "metadata": {
    "execution": {
     "iopub.execute_input": "2023-03-18T15:14:44.235011Z",
     "iopub.status.busy": "2023-03-18T15:14:44.234699Z",
     "iopub.status.idle": "2023-03-18T15:14:44.262419Z",
     "shell.execute_reply": "2023-03-18T15:14:44.261123Z"
    },
    "papermill": {
     "duration": 0.036823,
     "end_time": "2023-03-18T15:14:44.265284",
     "exception": false,
     "start_time": "2023-03-18T15:14:44.228461",
     "status": "completed"
    },
    "tags": []
   },
   "outputs": [
    {
     "name": "stdout",
     "output_type": "stream",
     "text": [
      "time valid length: 6199.700247193777 ns\n"
     ]
    }
   ],
   "source": [
    "# Load sensor_geometry\n",
    "sensor_geometry_df = pd.read_csv(home_dir + \"sensor_geometry.csv\")\n",
    "\n",
    "# Get Sensor Information\n",
    "sensor_x = sensor_geometry_df.x\n",
    "sensor_y = sensor_geometry_df.y\n",
    "sensor_z = sensor_geometry_df.z\n",
    "\n",
    "# Detector constants\n",
    "c_const = 0.299792458  # speed of light [m/ns]\n",
    "\n",
    "# Sensor Min / Max Coordinates\n",
    "x_min = sensor_x.min()\n",
    "x_max = sensor_x.max()\n",
    "y_min = sensor_y.min()\n",
    "y_max = sensor_y.max()\n",
    "z_min = sensor_z.min()\n",
    "z_max = sensor_z.max()\n",
    "\n",
    "detector_length = np.sqrt((x_max - x_min)**2 + (y_max - y_min)**2 + (z_max - z_min)**2)\n",
    "t_valid_length = detector_length / c_const\n",
    "\n",
    "print(f\"time valid length: {t_valid_length} ns\")"
   ]
  },
  {
   "cell_type": "markdown",
   "id": "15fa122d",
   "metadata": {
    "papermill": {
     "duration": 0.004848,
     "end_time": "2023-03-18T15:14:44.275969",
     "exception": false,
     "start_time": "2023-03-18T15:14:44.271121",
     "status": "completed"
    },
    "tags": []
   },
   "source": [
    "## Angle encoding edges\n",
    "\n",
    "- It is efficient to train the model by classification task, initially.\n",
    "- azimuth and zenith are independent\n",
    "- azimuth distribution is flat and zenith distribution is sinusoidal.\n",
    "  - Flat on the spherical surface\n",
    "  - $\\phi > \\pi$ events are a little bit rarer than $\\phi < \\pi$ events, (maybe) because of the neutrino attenuation by earth.\n",
    "- So, the uniform bin is used for azimuth, and $\\left| \\cos \\right|$ bin is used for zenith"
   ]
  },
  {
   "cell_type": "code",
   "execution_count": 5,
   "id": "9bc44d2d",
   "metadata": {
    "execution": {
     "iopub.execute_input": "2023-03-18T15:14:44.287733Z",
     "iopub.status.busy": "2023-03-18T15:14:44.287421Z",
     "iopub.status.idle": "2023-03-18T15:14:44.296854Z",
     "shell.execute_reply": "2023-03-18T15:14:44.295897Z"
    },
    "papermill": {
     "duration": 0.018601,
     "end_time": "2023-03-18T15:14:44.299966",
     "exception": false,
     "start_time": "2023-03-18T15:14:44.281365",
     "status": "completed"
    },
    "tags": []
   },
   "outputs": [
    {
     "name": "stdout",
     "output_type": "stream",
     "text": [
      "[0.         0.19634954 0.39269908 0.58904862 0.78539816 0.9817477\n",
      " 1.17809725 1.37444679 1.57079633 1.76714587 1.96349541 2.15984495\n",
      " 2.35619449 2.55254403 2.74889357 2.94524311 3.14159265 3.33794219\n",
      " 3.53429174 3.73064128 3.92699082 4.12334036 4.3196899  4.51603944\n",
      " 4.71238898 4.90873852 5.10508806 5.3014376  5.49778714 5.69413668\n",
      " 5.89048623 6.08683577 6.28318531]\n",
      "[0.         0.3554212  0.50536051 0.62236849 0.72273425 0.81275556\n",
      " 0.89566479 0.97338991 1.04719755 1.11797973 1.18639955 1.25297262\n",
      " 1.31811607 1.38217994 1.4454685  1.50825556 1.57079633 1.63333709\n",
      " 1.69612416 1.75941271 1.82347658 1.88862003 1.9551931  2.02361292\n",
      " 2.0943951  2.16820274 2.24592786 2.32883709 2.41885841 2.51922417\n",
      " 2.63623214 2.78617145 3.14159265]\n"
     ]
    }
   ],
   "source": [
    "# Create Azimuth Edges\n",
    "azimuth_edges = np.linspace(0, 2 * np.pi, bin_num + 1)\n",
    "print(azimuth_edges)\n",
    "\n",
    "# Create Zenith Edges\n",
    "zenith_edges = []\n",
    "zenith_edges.append(0)\n",
    "for bin_idx in range(1, bin_num):\n",
    "    zenith_edges.append(np.arccos(np.cos(zenith_edges[-1]) - 2 / (bin_num)))\n",
    "zenith_edges.append(np.pi)\n",
    "zenith_edges = np.array(zenith_edges)\n",
    "print(zenith_edges)"
   ]
  },
  {
   "cell_type": "markdown",
   "id": "dadfd433",
   "metadata": {
    "papermill": {
     "duration": 0.005148,
     "end_time": "2023-03-18T15:14:44.310937",
     "exception": false,
     "start_time": "2023-03-18T15:14:44.305789",
     "status": "completed"
    },
    "tags": []
   },
   "source": [
    "## Define a function converts from prediction to angles\n",
    "\n",
    "- Calculation of the mean-vector in a bin $\\theta \\in ( \\theta_0, \\theta_1 )$ and $\\phi \\in ( \\phi_0, \\phi_1 )$\n",
    "  - $\\vec{r} \\left( \\theta, ~ \\phi \\right) = \\left< \\sin \\theta \\cos \\phi, ~ \\sin \\theta \\sin \\phi, ~ \\cos \\theta \\right>$\n",
    "  - $\\bar{\\vec{r}} = \\frac{ \\int_{\\theta_{0}}^{\\theta_{1}} \\int_{\\phi_0}^{\\phi_1} \\vec{r} \\left( \\theta, ~ \\phi \\right) \\sin \\theta \\,d\\phi \\,d\\theta }{ \\int_{\\theta_{0}}^{\\theta_{1}} \\int_{\\phi_0}^{\\phi_1} 1 \\sin \\theta \\,d\\phi \\,d\\theta }$\n",
    "  - $ \\int_{\\theta_{0}}^{\\theta_{1}} \\int_{\\phi_0}^{\\phi_1} 1 \\sin \\theta \\,d\\phi \\,d\\theta = \\left( \\phi_1 - \\phi_0 \\right) \\left( \\cos \\theta_0 - \\cos \\theta_1 \\right)$\n",
    "  - $\n",
    "\\int_{\\theta_{0}}^{\\theta_{1}} \\int_{\\phi_0}^{\\phi_1} {r}_{x} \\left( \\theta, ~ \\phi \\right) \\sin \\theta \\,d\\phi \\,d\\theta = \n",
    "\\int_{\\theta_{0}}^{\\theta_{1}} \\int_{\\phi_0}^{\\phi_1} \\sin^2 \\theta \\cos \\phi \\,d\\phi \\,d\\theta = \n",
    "\\left( \\sin \\phi_1 - \\sin \\phi_0 \\right) \\left( \\frac{\\theta_1 - \\theta_0}{2} - \\frac{\\sin 2 \\theta_1 - \\sin 2 \\theta_0}{4} \\right)\n",
    "$\n",
    "  - $\n",
    "\\int_{\\theta_{0}}^{\\theta_{1}} \\int_{\\phi_0}^{\\phi_1} {r}_{y} \\left( \\theta, ~ \\phi \\right) \\sin \\theta \\,d\\phi \\,d\\theta = \n",
    "\\int_{\\theta_{0}}^{\\theta_{1}} \\int_{\\phi_0}^{\\phi_1} \\sin^2 \\theta \\sin \\phi \\,d\\phi \\,d\\theta = \n",
    "\\left( \\cos \\phi_0 - \\cos \\phi_1 \\right) \\left( \\frac{\\theta_1 - \\theta_0}{2} - \\frac{\\sin 2 \\theta_1 - \\sin 2 \\theta_0}{4} \\right)\n",
    "$\n",
    "  - $\n",
    "\\int_{\\theta_{0}}^{\\theta_{1}} \\int_{\\phi_0}^{\\phi_1} {r}_{z} \\left( \\theta, ~ \\phi \\right) \\sin \\theta \\,d\\phi \\,d\\theta = \n",
    "\\int_{\\theta_{0}}^{\\theta_{1}} \\int_{\\phi_0}^{\\phi_1} \\sin \\theta \\cos \\theta \\,d\\phi \\,d\\theta = \n",
    "\\left( \\phi_1 - \\phi_0 \\right) \\left( \\frac{\\cos 2 \\theta_0 - \\cos 2 \\theta_1}{4} \\right)\n",
    "$"
   ]
  },
  {
   "cell_type": "code",
   "execution_count": 6,
   "id": "b1447711",
   "metadata": {
    "execution": {
     "iopub.execute_input": "2023-03-18T15:14:44.323438Z",
     "iopub.status.busy": "2023-03-18T15:14:44.322550Z",
     "iopub.status.idle": "2023-03-18T15:14:44.334557Z",
     "shell.execute_reply": "2023-03-18T15:14:44.333510Z"
    },
    "papermill": {
     "duration": 0.020356,
     "end_time": "2023-03-18T15:14:44.336620",
     "exception": false,
     "start_time": "2023-03-18T15:14:44.316264",
     "status": "completed"
    },
    "tags": []
   },
   "outputs": [],
   "source": [
    "angle_bin_zenith0 = np.tile(zenith_edges[:-1], bin_num)\n",
    "angle_bin_zenith1 = np.tile(zenith_edges[1:], bin_num)\n",
    "angle_bin_azimuth0 = np.repeat(azimuth_edges[:-1], bin_num)\n",
    "angle_bin_azimuth1 = np.repeat(azimuth_edges[1:], bin_num)\n",
    "\n",
    "angle_bin_area = (angle_bin_azimuth1 - angle_bin_azimuth0) * (np.cos(angle_bin_zenith0) - np.cos(angle_bin_zenith1))\n",
    "angle_bin_vector_sum_x = (np.sin(angle_bin_azimuth1) - np.sin(angle_bin_azimuth0)) * ((angle_bin_zenith1 - angle_bin_zenith0) / 2 - (np.sin(2 * angle_bin_zenith1) - np.sin(2 * angle_bin_zenith0)) / 4)\n",
    "angle_bin_vector_sum_y = (np.cos(angle_bin_azimuth0) - np.cos(angle_bin_azimuth1)) * ((angle_bin_zenith1 - angle_bin_zenith0) / 2 - (np.sin(2 * angle_bin_zenith1) - np.sin(2 * angle_bin_zenith0)) / 4)\n",
    "angle_bin_vector_sum_z = (angle_bin_azimuth1 - angle_bin_azimuth0) * ((np.cos(2 * angle_bin_zenith0) - np.cos(2 * angle_bin_zenith1)) / 4)\n",
    "\n",
    "angle_bin_vector_mean_x = angle_bin_vector_sum_x / angle_bin_area\n",
    "angle_bin_vector_mean_y = angle_bin_vector_sum_y / angle_bin_area\n",
    "angle_bin_vector_mean_z = angle_bin_vector_sum_z / angle_bin_area\n",
    "\n",
    "angle_bin_vector = np.zeros((1, bin_num * bin_num, 3))\n",
    "angle_bin_vector[:, :, 0] = angle_bin_vector_mean_x\n",
    "angle_bin_vector[:, :, 1] = angle_bin_vector_mean_y\n",
    "angle_bin_vector[:, :, 2] = angle_bin_vector_mean_z\n",
    "\n",
    "angle_bin_vector_unit = angle_bin_vector[0].copy()\n",
    "angle_bin_vector_unit /= np.sqrt((angle_bin_vector_unit**2).sum(axis=1).reshape((-1, 1)))"
   ]
  },
  {
   "cell_type": "code",
   "execution_count": 7,
   "id": "fdf2eabd",
   "metadata": {
    "execution": {
     "iopub.execute_input": "2023-03-18T15:14:44.348911Z",
     "iopub.status.busy": "2023-03-18T15:14:44.348468Z",
     "iopub.status.idle": "2023-03-18T15:14:44.355955Z",
     "shell.execute_reply": "2023-03-18T15:14:44.354937Z"
    },
    "papermill": {
     "duration": 0.015387,
     "end_time": "2023-03-18T15:14:44.358009",
     "exception": false,
     "start_time": "2023-03-18T15:14:44.342622",
     "status": "completed"
    },
    "tags": []
   },
   "outputs": [],
   "source": [
    "def pred_to_angle(pred, epsilon = 1e-8):\n",
    "    # Convert prediction\n",
    "    pred_vector = (pred.reshape((-1, bin_num**2, 1)) * angle_bin_vector).sum(axis = 1)\n",
    "    \n",
    "    # Normalize\n",
    "    pred_vector_norm = np.sqrt((pred_vector**2).sum(axis = 1))\n",
    "    mask = pred_vector_norm < epsilon\n",
    "    pred_vector_norm[mask] = 1\n",
    "    \n",
    "    # Assign <1, 0, 0> to very small vectors (badly predicted)\n",
    "    pred_vector /= pred_vector_norm.reshape((-1, 1))\n",
    "    pred_vector[mask] = np.array([1., 0., 0.])\n",
    "    \n",
    "    # Convert to angle\n",
    "    azimuth = np.arctan2(pred_vector[:, 1], pred_vector[:, 0])\n",
    "    azimuth[azimuth < 0] += 2 * np.pi\n",
    "    zenith = np.arccos(pred_vector[:, 2])\n",
    "    \n",
    "    # Mask bad norm predictions as 0, 0\n",
    "    azimuth[mask] = 0.\n",
    "    zenith[mask] = 0.\n",
    "    \n",
    "    return azimuth, zenith"
   ]
  },
  {
   "cell_type": "markdown",
   "id": "80c55a56",
   "metadata": {
    "papermill": {
     "duration": 0.00763,
     "end_time": "2023-03-18T15:14:44.370632",
     "exception": false,
     "start_time": "2023-03-18T15:14:44.363002",
     "status": "completed"
    },
    "tags": []
   },
   "source": [
    "## Weighted-Vector Ensemble"
   ]
  },
  {
   "cell_type": "code",
   "execution_count": 8,
   "id": "e1eeb7d6",
   "metadata": {
    "execution": {
     "iopub.execute_input": "2023-03-18T15:14:44.382239Z",
     "iopub.status.busy": "2023-03-18T15:14:44.381897Z",
     "iopub.status.idle": "2023-03-18T15:14:44.390004Z",
     "shell.execute_reply": "2023-03-18T15:14:44.388930Z"
    },
    "papermill": {
     "duration": 0.016591,
     "end_time": "2023-03-18T15:14:44.392009",
     "exception": false,
     "start_time": "2023-03-18T15:14:44.375418",
     "status": "completed"
    },
    "tags": []
   },
   "outputs": [],
   "source": [
    "def weighted_vector_ensemble(angles, weight):\n",
    "    # Convert angle to vector\n",
    "    vec_models = list()\n",
    "    for angle in angles:\n",
    "        az, zen = angle\n",
    "        sa = np.sin(az)\n",
    "        ca = np.cos(az)\n",
    "        sz = np.sin(zen)\n",
    "        cz = np.cos(zen)\n",
    "        vec = np.stack([sz * ca, sz * sa, cz], axis=1)\n",
    "        vec_models.append(vec)\n",
    "    vec_models = np.array(vec_models)\n",
    "\n",
    "    # Weighted-mean\n",
    "    vec_mean = (weight.reshape((-1, 1, 1)) * vec_models).sum(axis=0) / weight.sum()\n",
    "    vec_mean /= np.sqrt((vec_mean**2).sum(axis=1)).reshape((-1, 1))\n",
    "\n",
    "    # Convert vector to angle\n",
    "    zenith = np.arccos(vec_mean[:, 2])\n",
    "    azimuth = np.arctan2(vec_mean[:, 1], vec_mean[:, 0])\n",
    "    azimuth[azimuth < 0] += 2 * np.pi\n",
    "    \n",
    "    return azimuth, zenith"
   ]
  },
  {
   "cell_type": "markdown",
   "id": "550ba561",
   "metadata": {
    "papermill": {
     "duration": 0.004833,
     "end_time": "2023-03-18T15:14:44.401671",
     "exception": false,
     "start_time": "2023-03-18T15:14:44.396838",
     "status": "completed"
    },
    "tags": []
   },
   "source": [
    "## Single event reader function\n",
    "\n",
    "- Pick-up important data points first\n",
    "    - Rank 3 (First)\n",
    "        - not aux, in valid time window\n",
    "    - Rank 2\n",
    "        - not aux, out of valid time window\n",
    "    - Rank 1\n",
    "        - aux, in valid time window\n",
    "    - Rank 0 (Last)\n",
    "        - aux, out of valid time window\n",
    "    - In each ranks, take pulses from highest charge"
   ]
  },
  {
   "cell_type": "code",
   "execution_count": 9,
   "id": "c224992c",
   "metadata": {
    "execution": {
     "iopub.execute_input": "2023-03-18T15:14:44.412880Z",
     "iopub.status.busy": "2023-03-18T15:14:44.412627Z",
     "iopub.status.idle": "2023-03-18T15:14:44.424290Z",
     "shell.execute_reply": "2023-03-18T15:14:44.423460Z"
    },
    "papermill": {
     "duration": 0.019802,
     "end_time": "2023-03-18T15:14:44.426257",
     "exception": false,
     "start_time": "2023-03-18T15:14:44.406455",
     "status": "completed"
    },
    "tags": []
   },
   "outputs": [],
   "source": [
    "# Placeholder\n",
    "open_batch_dict = dict()\n",
    "\n",
    "# Read single event from batch_meta_df\n",
    "def read_event(event_idx, batch_meta_df, pulse_count):\n",
    "    # Read metadata\n",
    "    batch_id, first_pulse_index, last_pulse_index = batch_meta_df.iloc[event_idx][[\"batch_id\", \"first_pulse_index\", \"last_pulse_index\"]].astype(\"int\")\n",
    "\n",
    "    # close past batch df\n",
    "    if batch_id - 1 in open_batch_dict.keys():\n",
    "        del open_batch_dict[batch_id - 1]\n",
    "\n",
    "    # open current batch df\n",
    "    if batch_id not in open_batch_dict.keys():\n",
    "        open_batch_dict.update({batch_id: pd.read_parquet(test_format.format(batch_id=batch_id))})\n",
    "    \n",
    "    batch_df = open_batch_dict[batch_id]\n",
    "    \n",
    "    # Read event\n",
    "    event_feature = batch_df[first_pulse_index:last_pulse_index + 1]\n",
    "    sensor_id = event_feature.sensor_id\n",
    "    \n",
    "    # Merge features into single structured array\n",
    "    dtype = [(\"time\", \"float16\"),\n",
    "             (\"charge\", \"float16\"),\n",
    "             (\"auxiliary\", \"float16\"),\n",
    "             (\"x\", \"float16\"),\n",
    "             (\"y\", \"float16\"),\n",
    "             (\"z\", \"float16\"),\n",
    "             (\"rank\", \"short\")]    \n",
    "    \n",
    "    # Create event_x\n",
    "    event_x = np.zeros(last_pulse_index - first_pulse_index + 1, dtype)\n",
    "    event_x[\"time\"] = event_feature.time.values - event_feature.time.min()\n",
    "    event_x[\"charge\"] = event_feature.charge.values\n",
    "    event_x[\"auxiliary\"] = event_feature.auxiliary.values\n",
    "    event_x[\"x\"] = sensor_geometry_df.x[sensor_id].values\n",
    "    event_x[\"y\"] = sensor_geometry_df.y[sensor_id].values\n",
    "    event_x[\"z\"] = sensor_geometry_df.z[sensor_id].values\n",
    "\n",
    "    # For long event, pick-up\n",
    "    if len(event_x) > pulse_count:\n",
    "        # Find valid time window\n",
    "        t_peak = event_x[\"time\"][event_x[\"charge\"].argmax()]\n",
    "        t_valid_min = t_peak - t_valid_length\n",
    "        t_valid_max = t_peak + t_valid_length\n",
    "        t_valid = (event_x[\"time\"] > t_valid_min) * (event_x[\"time\"] < t_valid_max)\n",
    "\n",
    "        # Rank\n",
    "        event_x[\"rank\"] = 2 * (1 - event_x[\"auxiliary\"]) + (t_valid)\n",
    "\n",
    "        # Sort by Rank and Charge (important goes to backward)\n",
    "        event_x = np.sort(event_x, order = [\"rank\", \"charge\"])\n",
    "\n",
    "        # pick-up from backward\n",
    "        event_x = event_x[-pulse_count:]\n",
    "\n",
    "        # Sort events by time \n",
    "        event_x = np.sort(event_x, order = \"time\")\n",
    "\n",
    "    return event_idx, len(event_x), event_x"
   ]
  },
  {
   "cell_type": "markdown",
   "id": "6fbff4d7",
   "metadata": {
    "papermill": {
     "duration": 0.004504,
     "end_time": "2023-03-18T15:14:44.435794",
     "exception": false,
     "start_time": "2023-03-18T15:14:44.431290",
     "status": "completed"
    },
    "tags": []
   },
   "source": [
    "## Test metadata"
   ]
  },
  {
   "cell_type": "code",
   "execution_count": 10,
   "id": "f4c72af3",
   "metadata": {
    "execution": {
     "iopub.execute_input": "2023-03-18T15:14:44.446971Z",
     "iopub.status.busy": "2023-03-18T15:14:44.446280Z",
     "iopub.status.idle": "2023-03-18T15:14:44.527450Z",
     "shell.execute_reply": "2023-03-18T15:14:44.526567Z"
    },
    "papermill": {
     "duration": 0.089199,
     "end_time": "2023-03-18T15:14:44.529923",
     "exception": false,
     "start_time": "2023-03-18T15:14:44.440724",
     "status": "completed"
    },
    "tags": []
   },
   "outputs": [],
   "source": [
    "# Read Test Meta data\n",
    "test_meta_df = pq.read_table(home_dir + 'test_meta.parquet').to_pandas()\n",
    "batch_counts = test_meta_df.batch_id.value_counts().sort_index()\n",
    "\n",
    "batch_max_index = batch_counts.cumsum()\n",
    "batch_max_index[test_meta_df.batch_id.min() - 1] = 0\n",
    "batch_max_index = batch_max_index.sort_index()\n",
    "\n",
    "# Support Function\n",
    "def test_meta_df_spliter(batch_id):\n",
    "    return test_meta_df.loc[batch_max_index[batch_id - 1]:batch_max_index[batch_id] - 1]"
   ]
  },
  {
   "cell_type": "markdown",
   "id": "21dc1c7e",
   "metadata": {
    "papermill": {
     "duration": 0.004869,
     "end_time": "2023-03-18T15:14:44.539889",
     "exception": false,
     "start_time": "2023-03-18T15:14:44.535020",
     "status": "completed"
    },
    "tags": []
   },
   "source": [
    "## Read test data and predict batchwise"
   ]
  },
  {
   "cell_type": "code",
   "execution_count": 11,
   "id": "ad1fbba2",
   "metadata": {
    "execution": {
     "iopub.execute_input": "2023-03-18T15:14:44.551377Z",
     "iopub.status.busy": "2023-03-18T15:14:44.550695Z",
     "iopub.status.idle": "2023-03-18T15:15:04.899184Z",
     "shell.execute_reply": "2023-03-18T15:15:04.898083Z"
    },
    "papermill": {
     "duration": 20.357556,
     "end_time": "2023-03-18T15:15:04.902180",
     "exception": false,
     "start_time": "2023-03-18T15:14:44.544624",
     "status": "completed"
    },
    "tags": []
   },
   "outputs": [],
   "source": [
    "# Get Batch IDs\n",
    "test_batch_ids = test_meta_df.batch_id.unique()\n",
    "\n",
    "# Submission Placeholders\n",
    "test_event_id = []\n",
    "test_azimuth = []\n",
    "test_zenith = []\n",
    "\n",
    "# Batch Loop\n",
    "for batch_id in test_batch_ids:\n",
    "    # Batch Meta DF\n",
    "    batch_meta_df = test_meta_df_spliter(batch_id)\n",
    "\n",
    "    # Set Pulses\n",
    "    test_x = np.zeros((len(batch_meta_df), pulse_count, feature_count), dtype = \"float16\")    \n",
    "    test_x[:, :, 2] = -1    \n",
    "\n",
    "    # Read Event Data\n",
    "    def read_event_local(event_idx):\n",
    "        return read_event(event_idx, batch_meta_df, pulse_count)\n",
    "    \n",
    "    # Multiprocess Events\n",
    "    iterator = range(len(batch_meta_df))\n",
    "    with multiprocessing.Pool() as pool:\n",
    "        for event_idx, pulsecount, event_x in pool.map(read_event_local, iterator):\n",
    "            # Features\n",
    "            test_x[event_idx, :pulsecount, 0] = event_x[\"time\"]\n",
    "            test_x[event_idx, :pulsecount, 1] = event_x[\"charge\"]\n",
    "            test_x[event_idx, :pulsecount, 2] = event_x[\"auxiliary\"]\n",
    "            test_x[event_idx, :pulsecount, 3] = event_x[\"x\"]\n",
    "            test_x[event_idx, :pulsecount, 4] = event_x[\"y\"]\n",
    "            test_x[event_idx, :pulsecount, 5] = event_x[\"z\"]\n",
    "    \n",
    "    del batch_meta_df\n",
    "    \n",
    "    # Normalize\n",
    "    test_x[:, :, 0] /= 1000  # time\n",
    "    test_x[:, :, 1] /= 300  # charge\n",
    "    test_x[:, :, 3:] /= 600  # space\n",
    "        \n",
    "    # Predict\n",
    "    pred_angles = []\n",
    "    for model in models:\n",
    "        pred_model = model.predict(test_x, verbose=0)\n",
    "        az_model, zen_model = pred_to_angle(pred_model)\n",
    "        pred_angles.append((az_model, zen_model))\n",
    "    \n",
    "    # Get Predicted Azimuth and Zenith\n",
    "    pred_azimuth, pred_zenith = weighted_vector_ensemble(pred_angles, model_weights)\n",
    "    \n",
    "    # Get Event IDs\n",
    "    event_ids = test_meta_df.event_id[test_meta_df.batch_id == batch_id].values\n",
    "    \n",
    "    # Finalize \n",
    "    for event_id, azimuth, zenith in zip(event_ids, pred_azimuth, pred_zenith):\n",
    "        if np.isfinite(azimuth) and np.isfinite(zenith):\n",
    "            test_event_id.append(int(event_id))\n",
    "            test_azimuth.append(azimuth)\n",
    "            test_zenith.append(zenith)\n",
    "        else:\n",
    "            test_event_id.append(int(event_id))\n",
    "            test_azimuth.append(0.)\n",
    "            test_zenith.append(0.)"
   ]
  },
  {
   "cell_type": "markdown",
   "id": "6cd6e23e",
   "metadata": {
    "papermill": {
     "duration": 0.004965,
     "end_time": "2023-03-18T15:15:04.912806",
     "exception": false,
     "start_time": "2023-03-18T15:15:04.907841",
     "status": "completed"
    },
    "tags": []
   },
   "source": [
    "## Create Submission"
   ]
  },
  {
   "cell_type": "code",
   "execution_count": 12,
   "id": "76e94a55",
   "metadata": {
    "execution": {
     "iopub.execute_input": "2023-03-18T15:15:04.924545Z",
     "iopub.status.busy": "2023-03-18T15:15:04.923643Z",
     "iopub.status.idle": "2023-03-18T15:15:04.934080Z",
     "shell.execute_reply": "2023-03-18T15:15:04.933233Z"
    },
    "papermill": {
     "duration": 0.018472,
     "end_time": "2023-03-18T15:15:04.936124",
     "exception": false,
     "start_time": "2023-03-18T15:15:04.917652",
     "status": "completed"
    },
    "tags": []
   },
   "outputs": [],
   "source": [
    "# Create and Save Submission.csv\n",
    "submission_df = pd.DataFrame({\"event_id\": test_event_id,\n",
    "                              \"azimuth\": test_azimuth,\n",
    "                              \"zenith\": test_zenith})\n",
    "submission_df = submission_df.sort_values(by = ['event_id'])\n",
    "submission_df.to_csv(\"submission.csv\", index = False)"
   ]
  },
  {
   "cell_type": "code",
   "execution_count": 13,
   "id": "63816abd",
   "metadata": {
    "execution": {
     "iopub.execute_input": "2023-03-18T15:15:04.947490Z",
     "iopub.status.busy": "2023-03-18T15:15:04.946688Z",
     "iopub.status.idle": "2023-03-18T15:15:04.962008Z",
     "shell.execute_reply": "2023-03-18T15:15:04.961062Z"
    },
    "papermill": {
     "duration": 0.022879,
     "end_time": "2023-03-18T15:15:04.963958",
     "exception": false,
     "start_time": "2023-03-18T15:15:04.941079",
     "status": "completed"
    },
    "tags": []
   },
   "outputs": [
    {
     "data": {
      "text/html": [
       "<div>\n",
       "<style scoped>\n",
       "    .dataframe tbody tr th:only-of-type {\n",
       "        vertical-align: middle;\n",
       "    }\n",
       "\n",
       "    .dataframe tbody tr th {\n",
       "        vertical-align: top;\n",
       "    }\n",
       "\n",
       "    .dataframe thead th {\n",
       "        text-align: right;\n",
       "    }\n",
       "</style>\n",
       "<table border=\"1\" class=\"dataframe\">\n",
       "  <thead>\n",
       "    <tr style=\"text-align: right;\">\n",
       "      <th></th>\n",
       "      <th>event_id</th>\n",
       "      <th>azimuth</th>\n",
       "      <th>zenith</th>\n",
       "    </tr>\n",
       "  </thead>\n",
       "  <tbody>\n",
       "    <tr>\n",
       "      <th>0</th>\n",
       "      <td>2092</td>\n",
       "      <td>1.709954</td>\n",
       "      <td>0.765464</td>\n",
       "    </tr>\n",
       "    <tr>\n",
       "      <th>1</th>\n",
       "      <td>7344</td>\n",
       "      <td>3.409830</td>\n",
       "      <td>2.123162</td>\n",
       "    </tr>\n",
       "    <tr>\n",
       "      <th>2</th>\n",
       "      <td>9482</td>\n",
       "      <td>4.434109</td>\n",
       "      <td>1.519606</td>\n",
       "    </tr>\n",
       "  </tbody>\n",
       "</table>\n",
       "</div>"
      ],
      "text/plain": [
       "   event_id   azimuth    zenith\n",
       "0      2092  1.709954  0.765464\n",
       "1      7344  3.409830  2.123162\n",
       "2      9482  4.434109  1.519606"
      ]
     },
     "execution_count": 13,
     "metadata": {},
     "output_type": "execute_result"
    }
   ],
   "source": [
    "# Summary\n",
    "submission_df.head()"
   ]
  },
  {
   "cell_type": "code",
   "execution_count": null,
   "id": "017ef13c",
   "metadata": {},
   "outputs": [],
   "source": []
  }
 ],
 "metadata": {
  "kernelspec": {
   "display_name": "Python 3 (ipykernel)",
   "language": "python",
   "name": "python3"
  },
  "language_info": {
   "codemirror_mode": {
    "name": "ipython",
    "version": 3
   },
   "file_extension": ".py",
   "mimetype": "text/x-python",
   "name": "python",
   "nbconvert_exporter": "python",
   "pygments_lexer": "ipython3",
   "version": "3.7.12"
  },
  "papermill": {
   "default_parameters": {},
   "duration": 54.293938,
   "end_time": "2023-03-18T15:15:08.089397",
   "environment_variables": {},
   "exception": null,
   "input_path": "__notebook__.ipynb",
   "output_path": "__notebook__.ipynb",
   "parameters": {},
   "start_time": "2023-03-18T15:14:13.795459",
   "version": "2.3.4"
  }
 },
 "nbformat": 4,
 "nbformat_minor": 5
}
