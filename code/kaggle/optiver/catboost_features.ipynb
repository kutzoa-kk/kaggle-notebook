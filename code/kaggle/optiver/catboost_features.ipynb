{
 "cells": [
  {
   "cell_type": "code",
   "execution_count": 1,
   "metadata": {
    "_cell_guid": "b1076dfc-b9ad-4769-8c92-a6c4dae69d19",
    "_uuid": "8f2839f25d086af736a60e9eeb907d3b93b6e0e5",
    "execution": {
     "iopub.execute_input": "2023-11-20T08:46:08.221115Z",
     "iopub.status.busy": "2023-11-20T08:46:08.220833Z",
     "iopub.status.idle": "2023-11-20T08:46:09.051893Z",
     "shell.execute_reply": "2023-11-20T08:46:09.051345Z",
     "shell.execute_reply.started": "2023-11-20T08:46:08.221092Z"
    },
    "papermill": {
     "duration": null,
     "end_time": null,
     "exception": null,
     "start_time": null,
     "status": "pending"
    },
    "tags": []
   },
   "outputs": [],
   "source": [
    "import gc\n",
    "import os\n",
    "import time\n",
    "import datetime\n",
    "import warnings\n",
    "from itertools import combinations\n",
    "from warnings import simplefilter\n",
    "import lightgbm as lgb\n",
    "import catboost as cbt\n",
    "\n",
    "import numpy as np\n",
    "import pandas as pd\n",
    "from sklearn.metrics import mean_absolute_error \n",
    "warnings.filterwarnings(\"ignore\")\n",
    "simplefilter(action=\"ignore\", category=pd.errors.PerformanceWarning)"
   ]
  },
  {
   "cell_type": "code",
   "execution_count": 6,
   "metadata": {
    "execution": {
     "iopub.execute_input": "2023-11-20T08:46:33.143507Z",
     "iopub.status.busy": "2023-11-20T08:46:33.143408Z",
     "iopub.status.idle": "2023-11-20T08:46:33.146577Z",
     "shell.execute_reply": "2023-11-20T08:46:33.146183Z",
     "shell.execute_reply.started": "2023-11-20T08:46:33.143498Z"
    }
   },
   "outputs": [],
   "source": [
    "class CFG:\n",
    "    \"\"\"\n",
    "    Configuration class for parameters and CV strategy for tuning and training\n",
    "    Please use caps lock capital letters while filling in parameters\n",
    "    \"\"\"\n",
    "    \n",
    "    # Data preparation\n",
    "    version_nb         = 3\n",
    "    is_gpu             = True\n",
    "    # device             = torch.device('cuda' if torch.cuda.is_available() and gpu_switch else 'cpu')\n",
    "    state              = 42\n",
    "\n",
    "    # BEFORE SUBMIT, CHECK SETTINGS\n",
    "    is_test_mode       = False\n",
    "    test_mode_frac     = 10\n",
    "    is_offline         = True\n",
    "    testing_days       = 2\n",
    "\n",
    "    target             = 'target'    \n",
    "    path               = '/kaggle/input/optiver-trading-at-the-close'\n",
    "    train_path         = f'{path}/train.csv'\n",
    "    test_path          = f'{path}/example_test_files/test.csv'\n",
    "    model_path         = f'' if not is_offline else f'{path}/'\n",
    "    \n",
    "    TRAINING           = True\n",
    "    INFERENCE          = False\n",
    "    \n",
    "    # methods            = ['LGBM',]\n",
    "    methods            = ['CBT']"
   ]
  },
  {
   "cell_type": "markdown",
   "metadata": {
    "papermill": {
     "duration": null,
     "end_time": null,
     "exception": null,
     "start_time": null,
     "status": "pending"
    },
    "tags": []
   },
   "source": [
    "# Data Loading and Preprocessing \n",
    "\n",
    "\n",
    "\n",
    "\n"
   ]
  },
  {
   "cell_type": "code",
   "execution_count": 7,
   "metadata": {
    "execution": {
     "iopub.execute_input": "2023-11-20T08:46:33.147458Z",
     "iopub.status.busy": "2023-11-20T08:46:33.147359Z",
     "iopub.status.idle": "2023-11-20T08:46:38.166774Z",
     "shell.execute_reply": "2023-11-20T08:46:38.166242Z",
     "shell.execute_reply.started": "2023-11-20T08:46:33.147449Z"
    },
    "papermill": {
     "duration": null,
     "end_time": null,
     "exception": null,
     "start_time": null,
     "status": "pending"
    },
    "tags": []
   },
   "outputs": [
    {
     "name": "stdout",
     "output_type": "stream",
     "text": [
      "(5237892, 17)\n"
     ]
    }
   ],
   "source": [
    "# 📂 Read the dataset from a CSV file using Pandas\n",
    "df = pd.read_csv(CFG.train_path)\n",
    "if CFG.is_test_mode:\n",
    "    df = df[df['stock_id'] < test_mode_frac]\n",
    "\n",
    "# 🧹 Remove rows with missing values in the \"target\" column\n",
    "df = df.dropna(subset=[\"target\"])\n",
    "\n",
    "# 🔁 Reset the index of the DataFrame and apply the changes in place\n",
    "df.reset_index(drop=True, inplace=True)\n",
    "\n",
    "# 📏 Get the shape of the DataFrame (number of rows and columns)\n",
    "df_shape = df.shape\n",
    "print(df_shape)"
   ]
  },
  {
   "cell_type": "markdown",
   "metadata": {
    "papermill": {
     "duration": null,
     "end_time": null,
     "exception": null,
     "start_time": null,
     "status": "pending"
    },
    "tags": []
   },
   "source": [
    "# Memory Optimization"
   ]
  },
  {
   "cell_type": "code",
   "execution_count": 8,
   "metadata": {
    "execution": {
     "iopub.execute_input": "2023-11-20T08:46:38.167465Z",
     "iopub.status.busy": "2023-11-20T08:46:38.167357Z",
     "iopub.status.idle": "2023-11-20T08:46:38.172900Z",
     "shell.execute_reply": "2023-11-20T08:46:38.172531Z",
     "shell.execute_reply.started": "2023-11-20T08:46:38.167454Z"
    },
    "papermill": {
     "duration": null,
     "end_time": null,
     "exception": null,
     "start_time": null,
     "status": "pending"
    },
    "tags": []
   },
   "outputs": [],
   "source": [
    "def reduce_mem_usage(df, verbose=0):\n",
    "    start_mem = df.memory_usage().sum() / 1024**2\n",
    "    for col in df.columns:\n",
    "        col_type = df[col].dtype\n",
    "        if col_type != object:\n",
    "            c_min = df[col].min()\n",
    "            c_max = df[col].max()\n",
    "            \n",
    "            if str(col_type)[:3] == \"int\":\n",
    "                if c_min > np.iinfo(np.int8).min and c_max < np.iinfo(np.int8).max:\n",
    "                    df[col] = df[col].astype(np.int8)\n",
    "                elif c_min > np.iinfo(np.int16).min and c_max < np.iinfo(np.int16).max:\n",
    "                    df[col] = df[col].astype(np.int16)\n",
    "                elif c_min > np.iinfo(np.int32).min and c_max < np.iinfo(np.int32).max:\n",
    "                    df[col] = df[col].astype(np.int32)\n",
    "                elif c_min > np.iinfo(np.int64).min and c_max < np.iinfo(np.int64).max:\n",
    "                    df[col] = df[col].astype(np.int64)\n",
    "            else:\n",
    "               \n",
    "                if c_min > np.finfo(np.float16).min and c_max < np.finfo(np.float16).max:\n",
    "                    df[col] = df[col].astype(np.float32)\n",
    "                elif c_min > np.finfo(np.float32).min and c_max < np.finfo(np.float32).max:\n",
    "                    df[col] = df[col].astype(np.float32)\n",
    "                else:\n",
    "                    df[col] = df[col].astype(np.float32)\n",
    "    if verbose:\n",
    "        logger.info(f\"Memory usage of dataframe is {start_mem:.2f} MB\")\n",
    "        end_mem = df.memory_usage().sum() / 1024**2\n",
    "        logger.info(f\"Memory usage after optimization is: {end_mem:.2f} MB\")\n",
    "        decrease = 100 * (start_mem - end_mem) / start_mem\n",
    "        logger.info(f\"Decreased by {decrease:.2f}%\")\n",
    "    return df\n"
   ]
  },
  {
   "cell_type": "markdown",
   "metadata": {
    "papermill": {
     "duration": null,
     "end_time": null,
     "exception": null,
     "start_time": null,
     "status": "pending"
    },
    "tags": []
   },
   "source": [
    " # Parallel Triplet Imbalance Calculation"
   ]
  },
  {
   "cell_type": "code",
   "execution_count": 9,
   "metadata": {
    "execution": {
     "iopub.execute_input": "2023-11-20T08:46:38.173386Z",
     "iopub.status.busy": "2023-11-20T08:46:38.173288Z",
     "iopub.status.idle": "2023-11-20T08:46:38.249681Z",
     "shell.execute_reply": "2023-11-20T08:46:38.249225Z",
     "shell.execute_reply.started": "2023-11-20T08:46:38.173377Z"
    },
    "papermill": {
     "duration": null,
     "end_time": null,
     "exception": null,
     "start_time": null,
     "status": "pending"
    },
    "tags": []
   },
   "outputs": [],
   "source": [
    "from numba import njit, prange\n",
    "\n",
    "@njit(parallel=True)\n",
    "def compute_triplet_imbalance(df_values, comb_indices):\n",
    "    num_rows = df_values.shape[0]\n",
    "    num_combinations = len(comb_indices)\n",
    "    imbalance_features = np.empty((num_rows, num_combinations))\n",
    "    for i in prange(num_combinations):\n",
    "        a, b, c = comb_indices[i]\n",
    "        for j in range(num_rows):\n",
    "            max_val = max(df_values[j, a], df_values[j, b], df_values[j, c])\n",
    "            min_val = min(df_values[j, a], df_values[j, b], df_values[j, c])\n",
    "            mid_val = df_values[j, a] + df_values[j, b] + df_values[j, c] - min_val - max_val\n",
    "            \n",
    "            if mid_val == min_val:\n",
    "                imbalance_features[j, i] = np.nan\n",
    "            else:\n",
    "                imbalance_features[j, i] = (max_val - mid_val) / (mid_val - min_val)\n",
    "\n",
    "    return imbalance_features\n",
    "\n",
    "def calculate_triplet_imbalance_numba(price, df):\n",
    "    df_values = df[price].values\n",
    "    comb_indices = [(price.index(a), price.index(b), price.index(c)) for a, b, c in combinations(price, 3)]\n",
    "    features_array = compute_triplet_imbalance(df_values, comb_indices)\n",
    "    columns = [f\"{a}_{b}_{c}_imb2\" for a, b, c in combinations(price, 3)]\n",
    "    features = pd.DataFrame(features_array, columns=columns)\n",
    "    return features\n"
   ]
  },
  {
   "cell_type": "markdown",
   "metadata": {
    "papermill": {
     "duration": null,
     "end_time": null,
     "exception": null,
     "start_time": null,
     "status": "pending"
    },
    "tags": []
   },
   "source": [
    "# Feature Generation Functions "
   ]
  },
  {
   "cell_type": "code",
   "execution_count": 10,
   "metadata": {
    "execution": {
     "iopub.execute_input": "2023-11-20T08:46:38.250373Z",
     "iopub.status.busy": "2023-11-20T08:46:38.250208Z",
     "iopub.status.idle": "2023-11-20T08:46:38.258780Z",
     "shell.execute_reply": "2023-11-20T08:46:38.258424Z",
     "shell.execute_reply.started": "2023-11-20T08:46:38.250362Z"
    },
    "papermill": {
     "duration": null,
     "end_time": null,
     "exception": null,
     "start_time": null,
     "status": "pending"
    },
    "tags": []
   },
   "outputs": [],
   "source": [
    "def imbalance_features(df):\n",
    "    # Define lists of price and size-related column names\n",
    "    prices = [\"reference_price\", \"far_price\", \"near_price\", \"ask_price\", \"bid_price\", \"wap\"]\n",
    "    sizes = [\"matched_size\", \"bid_size\", \"ask_size\", \"imbalance_size\"]\n",
    "    df[\"volume\"] = df.eval(\"ask_size + bid_size\")\n",
    "    df[\"mid_price\"] = df.eval(\"(ask_price + bid_price) / 2\")\n",
    "    df[\"liquidity_imbalance\"] = df.eval(\"(bid_size-ask_size)/(bid_size+ask_size)\")\n",
    "    df[\"matched_imbalance\"] = df.eval(\"(imbalance_size-matched_size)/(matched_size+imbalance_size)\")\n",
    "    df[\"size_imbalance\"] = df.eval(\"bid_size / ask_size\")\n",
    "    df[\"size_imbalance_bid\"] = df.eval(\"imbalance_size / bid_size\")\n",
    "    df[\"size_imbalance_ask\"] = df.eval(\"imbalance_size / ask_size\")\n",
    "    df[\"matched_size_bid_ask\"] = df.eval(\"matched_size / (bid_size+ask_size)\")\n",
    "\n",
    "    for c in combinations(prices, 2):\n",
    "        df[f\"{c[0]}_{c[1]}_imb\"] = df.eval(f\"({c[0]} - {c[1]})/({c[0]} + {c[1]})\")\n",
    "\n",
    "    for c in [['ask_price', 'bid_price', 'wap', 'reference_price'], sizes]:\n",
    "        triplet_feature = calculate_triplet_imbalance_numba(c, df)\n",
    "        df[triplet_feature.columns] = triplet_feature.values\n",
    "   \n",
    "    df[\"imbalance_momentum\"] = df.groupby(['stock_id'])['imbalance_size'].diff(periods=1) / df['matched_size']\n",
    "    df[\"price_spread\"] = df[\"ask_price\"] - df[\"bid_price\"]\n",
    "    df[\"spread_intensity\"] = df.groupby(['stock_id'])['price_spread'].diff()\n",
    "    df['price_pressure'] = df['imbalance_size'] * (df['ask_price'] - df['bid_price'])\n",
    "    df['market_urgency'] = df['price_spread'] * df['liquidity_imbalance']\n",
    "    df['depth_pressure'] = (df['ask_size'] - df['bid_size']) * (df['far_price'] - df['near_price'])\n",
    "    \n",
    "    # Calculate various statistical aggregation features\n",
    "    for func in [\"mean\", \"std\", \"skew\", \"kurt\"]:\n",
    "        df[f\"all_prices_{func}\"] = df[prices].agg(func, axis=1)\n",
    "        df[f\"all_sizes_{func}\"] = df[sizes].agg(func, axis=1)\n",
    "        \n",
    "\n",
    "    for col in ['matched_size', 'imbalance_size', 'reference_price', 'imbalance_buy_sell_flag']:\n",
    "        for window in [1, 2, 3, 10]:\n",
    "            df[f\"{col}_shift_{window}\"] = df.groupby('stock_id')[col].shift(window)\n",
    "            df[f\"{col}_ret_{window}\"] = df.groupby('stock_id')[col].pct_change(window)\n",
    "\n",
    "            if window == 1:\n",
    "                continue\n",
    "\n",
    "            date_ids = df['date_id'].unique()\n",
    "            agg_func = ['mean', 'sum']\n",
    "            moving_li = []\n",
    "            \n",
    "            for date in date_ids:\n",
    "                moving_li.append(\n",
    "                    df[df['date_id'] == date].groupby('stock_id')[col].rolling(window).agg(agg_func).reset_index().set_index('level_1')[agg_func]\n",
    "                )\n",
    "            df[[f'{col}_moving_average_{window}', f'{col}_moving_sum_{window}']] = pd.concat(moving_li)[agg_func]\n",
    "    \n",
    "    # Calculate diff features for specific columns\n",
    "    for col in ['ask_price', 'bid_price', 'ask_size', 'bid_size', 'market_urgency', 'imbalance_momentum', 'size_imbalance']:\n",
    "        for window in [1, 2, 3, 10]:\n",
    "            df[f\"{col}_diff_{window}\"] = df.groupby(\"stock_id\")[col].diff(window)\n",
    "\n",
    "    # --- add\n",
    "    # Calculate diff prices\n",
    "    for c in combinations(prices, 2):\n",
    "        df[f'{c[0]}_{c[1]}_diff'] = df.eval(f'({c[0]} - {c[1]})')\n",
    "\n",
    "    return df.replace([np.inf, -np.inf], 0)\n",
    "\n",
    "def other_features(df):\n",
    "    df[\"dow\"] = df[\"date_id\"] % 5  # Day of the week\n",
    "    df[\"seconds\"] = df[\"seconds_in_bucket\"] % 60  \n",
    "    df[\"minute\"] = df[\"seconds_in_bucket\"] // 60  \n",
    "    for key, value in global_stock_id_feats.items():\n",
    "        df[f\"global_{key}\"] = df[\"stock_id\"].map(value.to_dict())\n",
    "\n",
    "    return df\n",
    "\n",
    "def generate_all_features(df):\n",
    "    # Select relevant columns for feature generation\n",
    "    cols = [c for c in df.columns if c not in [\"row_id\", \"time_id\", \"target\"]]\n",
    "    df = df[cols]\n",
    "    \n",
    "    # Generate imbalance features\n",
    "    df = imbalance_features(df)\n",
    "    df = other_features(df)\n",
    "    gc.collect()  \n",
    "    feature_name = [i for i in df.columns if i not in [\"row_id\", \"target\", \"time_id\", \"date_id\", 'ask_price_bid_price_diff']]\n",
    "    \n",
    "    return df[feature_name]"
   ]
  },
  {
   "cell_type": "code",
   "execution_count": 11,
   "metadata": {
    "execution": {
     "iopub.execute_input": "2023-11-20T08:46:38.259302Z",
     "iopub.status.busy": "2023-11-20T08:46:38.259200Z",
     "iopub.status.idle": "2023-11-20T08:46:38.264155Z",
     "shell.execute_reply": "2023-11-20T08:46:38.263803Z",
     "shell.execute_reply.started": "2023-11-20T08:46:38.259292Z"
    },
    "papermill": {
     "duration": null,
     "end_time": null,
     "exception": null,
     "start_time": null,
     "status": "pending"
    },
    "tags": []
   },
   "outputs": [],
   "source": [
    "weights = [\n",
    "    0.004, 0.001, 0.002, 0.006, 0.004, 0.004, 0.002, 0.006, 0.006, 0.002, 0.002, 0.008,\n",
    "    0.006, 0.002, 0.008, 0.006, 0.002, 0.006, 0.004, 0.002, 0.004, 0.001, 0.006, 0.004,\n",
    "    0.002, 0.002, 0.004, 0.002, 0.004, 0.004, 0.001, 0.001, 0.002, 0.002, 0.006, 0.004,\n",
    "    0.004, 0.004, 0.006, 0.002, 0.002, 0.04 , 0.002, 0.002, 0.004, 0.04 , 0.002, 0.001,\n",
    "    0.006, 0.004, 0.004, 0.006, 0.001, 0.004, 0.004, 0.002, 0.006, 0.004, 0.006, 0.004,\n",
    "    0.006, 0.004, 0.002, 0.001, 0.002, 0.004, 0.002, 0.008, 0.004, 0.004, 0.002, 0.004,\n",
    "    0.006, 0.002, 0.004, 0.004, 0.002, 0.004, 0.004, 0.004, 0.001, 0.002, 0.002, 0.008,\n",
    "    0.02 , 0.004, 0.006, 0.002, 0.02 , 0.002, 0.002, 0.006, 0.004, 0.002, 0.001, 0.02,\n",
    "    0.006, 0.001, 0.002, 0.004, 0.001, 0.002, 0.006, 0.006, 0.004, 0.006, 0.001, 0.002,\n",
    "    0.004, 0.006, 0.006, 0.001, 0.04 , 0.006, 0.002, 0.004, 0.002, 0.002, 0.006, 0.002,\n",
    "    0.002, 0.004, 0.006, 0.006, 0.002, 0.002, 0.008, 0.006, 0.004, 0.002, 0.006, 0.002,\n",
    "    0.004, 0.006, 0.002, 0.004, 0.001, 0.004, 0.002, 0.004, 0.008, 0.006, 0.008, 0.002,\n",
    "    0.004, 0.002, 0.001, 0.004, 0.004, 0.004, 0.006, 0.008, 0.004, 0.001, 0.001, 0.002,\n",
    "    0.006, 0.004, 0.001, 0.002, 0.006, 0.004, 0.006, 0.008, 0.002, 0.002, 0.004, 0.002,\n",
    "    0.04 , 0.002, 0.002, 0.004, 0.002, 0.002, 0.006, 0.02 , 0.004, 0.002, 0.006, 0.02,\n",
    "    0.001, 0.002, 0.006, 0.004, 0.006, 0.004, 0.004, 0.004, 0.004, 0.002, 0.004, 0.04,\n",
    "    0.002, 0.008, 0.002, 0.004, 0.001, 0.004, 0.006, 0.004,\n",
    "]\n",
    "weights = {int(k):v for k,v in enumerate(weights)}"
   ]
  },
  {
   "cell_type": "markdown",
   "metadata": {
    "papermill": {
     "duration": null,
     "end_time": null,
     "exception": null,
     "start_time": null,
     "status": "pending"
    },
    "tags": []
   },
   "source": [
    "## Data Splitting"
   ]
  },
  {
   "cell_type": "code",
   "execution_count": 12,
   "metadata": {
    "execution": {
     "iopub.execute_input": "2023-11-20T08:46:38.264687Z",
     "iopub.status.busy": "2023-11-20T08:46:38.264588Z",
     "iopub.status.idle": "2023-11-20T08:49:27.674747Z",
     "shell.execute_reply": "2023-11-20T08:49:27.674080Z",
     "shell.execute_reply.started": "2023-11-20T08:46:38.264677Z"
    },
    "papermill": {
     "duration": null,
     "end_time": null,
     "exception": null,
     "start_time": null,
     "status": "pending"
    },
    "tags": []
   },
   "outputs": [],
   "source": [
    "# from sklearn.model_selection import GroupShuffleSplit \n",
    "\n",
    "# splitter = GroupShuffleSplit(test_size=.20, n_splits=1, random_state=CFG.state)\n",
    "# split = splitter.split(df, groups=df['stock_id'])\n",
    "# train_inds, test_inds = next(split)\n",
    "\n",
    "# df_train = df.iloc[train_inds].copy()\n",
    "# df_test = df.iloc[test_inds].copy()\n",
    "number_of_days = len(df['date_id'].unique())\n",
    "training_days = number_of_days - CFG.testing_days\n",
    "train_inds = df['date_id'] <= training_days\n",
    "test_inds = df['date_id'] > training_days\n",
    "\n",
    "df_train = df[train_inds]\n",
    "df_test = df[test_inds]\n",
    "del df\n",
    "\n",
    "global_stock_id_feats = {\n",
    "    \"median_size\": df_train.groupby(\"stock_id\")[\"bid_size\"].median() + df_train.groupby(\"stock_id\")[\"ask_size\"].median(),\n",
    "    \"std_size\": df_train.groupby(\"stock_id\")[\"bid_size\"].std() + df_train.groupby(\"stock_id\")[\"ask_size\"].std(),\n",
    "    \"ptp_size\": df_train.groupby(\"stock_id\")[\"bid_size\"].max() - df_train.groupby(\"stock_id\")[\"bid_size\"].min(),\n",
    "    \"median_price\": df_train.groupby(\"stock_id\")[\"bid_price\"].median() + df_train.groupby(\"stock_id\")[\"ask_price\"].median(),\n",
    "    \"std_price\": df_train.groupby(\"stock_id\")[\"bid_price\"].std() + df_train.groupby(\"stock_id\")[\"ask_price\"].std(),\n",
    "    \"ptp_price\": df_train.groupby(\"stock_id\")[\"bid_price\"].max() - df_train.groupby(\"stock_id\")[\"ask_price\"].min(),\n",
    "}\n",
    "\n",
    "if CFG.TRAINING:\n",
    "    df_train_feats = generate_all_features(df_train)\n",
    "    df_train_feats = reduce_mem_usage(df_train_feats)\n",
    "\n",
    "    df_test_feats = generate_all_features(df_test)\n",
    "    df_test_feats = reduce_mem_usage(df_test_feats)"
   ]
  },
  {
   "cell_type": "markdown",
   "metadata": {
    "jp-MarkdownHeadingCollapsed": true
   },
   "source": [
    "## LightGBM"
   ]
  },
  {
   "cell_type": "code",
   "execution_count": null,
   "metadata": {
    "execution": {
     "iopub.execute_input": "2023-11-20T06:34:07.201221Z",
     "iopub.status.busy": "2023-11-20T06:34:07.201120Z"
    },
    "papermill": {
     "duration": null,
     "end_time": null,
     "exception": null,
     "start_time": null,
     "status": "pending"
    },
    "tags": []
   },
   "outputs": [
    {
     "name": "stdout",
     "output_type": "stream",
     "text": [
      "Feature length = 165\n",
      "Fold 1 Model Training\n"
     ]
    },
    {
     "name": "stderr",
     "output_type": "stream",
     "text": [
      "1 warning generated.\n",
      "1 warning generated.\n",
      "1 warning generated.\n",
      "1 warning generated.\n",
      "1 warning generated.\n",
      "1 warning generated.\n",
      "1 warning generated.\n",
      "1 warning generated.\n",
      "1 warning generated.\n",
      "1 warning generated.\n",
      "1 warning generated.\n",
      "1 warning generated.\n",
      "1 warning generated.\n",
      "1 warning generated.\n",
      "1 warning generated.\n",
      "1 warning generated.\n",
      "1 warning generated.\n",
      "1 warning generated.\n",
      "1 warning generated.\n",
      "1 warning generated.\n",
      "1 warning generated.\n",
      "1 warning generated.\n",
      "1 warning generated.\n",
      "1 warning generated.\n",
      "1 warning generated.\n",
      "1 warning generated.\n",
      "1 warning generated.\n",
      "1 warning generated.\n",
      "1 warning generated.\n",
      "1 warning generated.\n",
      "1 warning generated.\n",
      "1 warning generated.\n",
      "1 warning generated.\n"
     ]
    },
    {
     "name": "stdout",
     "output_type": "stream",
     "text": [
      "Training until validation scores don't improve for 100 rounds\n",
      "[100]\tvalid_0's l1: 7.10098\n",
      "[200]\tvalid_0's l1: 7.05589\n",
      "[300]\tvalid_0's l1: 7.03369\n",
      "[400]\tvalid_0's l1: 7.01605\n",
      "[500]\tvalid_0's l1: 7.00091\n",
      "[600]\tvalid_0's l1: 6.9881\n",
      "[700]\tvalid_0's l1: 6.9771\n",
      "[800]\tvalid_0's l1: 6.96702\n",
      "[900]\tvalid_0's l1: 6.95807\n",
      "[1000]\tvalid_0's l1: 6.95004\n"
     ]
    }
   ],
   "source": [
    "import numpy as np\n",
    "import lightgbm as lgb\n",
    "from sklearn.metrics import mean_absolute_error\n",
    "import gc\n",
    "\n",
    "if CFG.TRAINING and 'LGBM' in CFG.methods:\n",
    "    lgb_params = {\n",
    "        \"objective\": \"mae\",\n",
    "        \"n_estimators\": 6000 if not CFG.is_test_mode else 500,\n",
    "        \"num_leaves\": 256,\n",
    "        \"subsample\": 0.6,\n",
    "        \"colsample_bytree\": 0.8,\n",
    "        \"learning_rate\": 0.00871,\n",
    "        'max_depth': 11,\n",
    "        \"n_jobs\": 4,\n",
    "        \"device\": 'gpu' if CFG.is_gpu else 'cpu',\n",
    "        \"verbosity\": -1,\n",
    "        \"importance_type\": \"gain\",\n",
    "        'seed': CFG.state,\n",
    "    }\n",
    "    feature_name = list(df_train_feats.columns)\n",
    "    print(f\"Feature length = {len(feature_name)}\")\n",
    "    \n",
    "    num_folds = 5\n",
    "    fold_size = 480 // num_folds\n",
    "    gap = 5\n",
    "    \n",
    "    lgb_models = []\n",
    "    scores = []\n",
    "    \n",
    "    model_save_path = f'{CFG.model_path}lgb_model' \n",
    "    if not os.path.exists(model_save_path):\n",
    "        os.makedirs(model_save_path)\n",
    "    \n",
    "    date_ids = df_train['date_id'].values\n",
    "    \n",
    "    for i in range(num_folds):\n",
    "        start = i * fold_size\n",
    "        end = start + fold_size\n",
    "        if i < num_folds - 1:  # No need to purge after the last fold\n",
    "            purged_start = end - 2\n",
    "            purged_end = end + gap + 2\n",
    "            train_indices = (date_ids >= start) & (date_ids < purged_start) | (date_ids > purged_end)\n",
    "        else:\n",
    "            train_indices = (date_ids >= start) & (date_ids < end)\n",
    "        \n",
    "        test_indices = (date_ids >= end) & (date_ids < end + fold_size)\n",
    "        \n",
    "        df_fold_train = df_train_feats[train_indices]\n",
    "        df_fold_train_target = df_train['target'][train_indices]\n",
    "        df_fold_valid = df_train_feats[test_indices]\n",
    "        df_fold_valid_target = df_train['target'][test_indices]\n",
    "    \n",
    "        print(f\"Fold {i+1} Model Training\")\n",
    "        \n",
    "        # Train a LightGBM model for the current fold\n",
    "        lgb_model = lgb.LGBMRegressor(**lgb_params)\n",
    "        lgb_model.fit(\n",
    "            df_fold_train[feature_name],\n",
    "            df_fold_train_target,\n",
    "            eval_set=[(df_fold_valid[feature_name], df_fold_valid_target)],\n",
    "            callbacks=[\n",
    "                lgb.callback.early_stopping(stopping_rounds=100),\n",
    "                lgb.callback.log_evaluation(period=100),\n",
    "            ],\n",
    "        )\n",
    "    \n",
    "        lgb_models.append(lgb_model)\n",
    "        # Save the model to a file\n",
    "        model_filename = os.path.join(model_save_path, f'lgb_cv{i+1}.txt')\n",
    "        lgb_model.booster_.save_model(model_filename)\n",
    "        print(f\"Model for fold {i+1} saved to {model_filename}\")\n",
    "    \n",
    "        # Evaluate model performance on the validation set\n",
    "        fold_predictions = lgb_model.predict(df_fold_valid[feature_name])\n",
    "        fold_score = mean_absolute_error(fold_predictions, df_fold_valid_target)\n",
    "        scores.append(fold_score)\n",
    "        print(f\"Fold {i+1} MAE: {fold_score}\")\n",
    "    \n",
    "        # Free up memory by deleting fold specific variables\n",
    "        del df_fold_train, df_fold_train_target, df_fold_valid, df_fold_valid_target\n",
    "        gc.collect()\n",
    "    \n",
    "    # Calculate the average best iteration from all regular folds\n",
    "    average_best_iteration = int(np.mean([model.best_iteration_ for model in lgb_models]))\n",
    "    \n",
    "    # Update the lgb_params with the average best iteration\n",
    "    final_model_params = lgb_params.copy()\n",
    "    final_model_params['n_estimators'] = average_best_iteration\n",
    "    \n",
    "    print(f\"Training final model with average best iteration: {average_best_iteration}\")\n",
    "    \n",
    "    # Train the final model on the entire dataset\n",
    "    final_model = lgb.LGBMRegressor(**final_model_params)\n",
    "    final_model.fit(\n",
    "        df_train_feats[feature_name],\n",
    "        df_train['target'],\n",
    "        callbacks=[\n",
    "            lgb.callback.log_evaluation(period=500),\n",
    "        ],\n",
    "    )\n",
    "    \n",
    "    # Append the final model to the list of models\n",
    "    lgb_models.append(final_model)\n",
    "    \n",
    "    # Save the final model to a file\n",
    "    final_model_filename = os.path.join(model_save_path, 'lgb_fin.txt')\n",
    "    final_model.booster_.save_model(final_model_filename)\n",
    "    print(f\"Final model saved to {final_model_filename}\")\n",
    "    \n",
    "    # Now 'models' holds the trained models for each fold and 'scores' holds the validation scores\n",
    "    print(f\"Average MAE across all folds: {np.mean(scores)}\")\n",
    "\n",
    "    os.makedirs(f'{model_save_path}/scores', exist_ok=True)\n",
    "    np.savetxt(f'{model_save_path}/scores/lgbm_{datetime.datetime.now()}.txt', scores)"
   ]
  },
  {
   "cell_type": "markdown",
   "metadata": {},
   "source": [
    "## Catboost"
   ]
  },
  {
   "cell_type": "code",
   "execution_count": 14,
   "metadata": {
    "execution": {
     "iopub.execute_input": "2023-11-20T08:49:34.818364Z",
     "iopub.status.busy": "2023-11-20T08:49:34.817956Z",
     "iopub.status.idle": "2023-11-20T08:49:34.823185Z",
     "shell.execute_reply": "2023-11-20T08:49:34.822520Z",
     "shell.execute_reply.started": "2023-11-20T08:49:34.818342Z"
    }
   },
   "outputs": [],
   "source": [
    "# https://www.kaggle.com/code/nhsmith/catboost-features-and-params\n",
    "from catboost import EShapCalcType, EFeaturesSelectionAlgorithm\n",
    "def select_features(train_pool, val_pool, model, algorithm, num_features, steps):\n",
    "    print('Algorithm:', algorithm)\n",
    "    summary = model.select_features(\n",
    "        train_pool,\n",
    "        eval_set=val_pool,\n",
    "        features_for_select=list(range(train_pool.num_col())),\n",
    "        num_features_to_select=num_features,\n",
    "        steps=steps,\n",
    "        algorithm=algorithm,\n",
    "        shap_calc_type=EShapCalcType.Regular,\n",
    "        train_final_model=True,\n",
    "        logging_level='Silent',\n",
    "        plot=True\n",
    "    )\n",
    "    print('Selected features:', summary['selected_features_names'])\n",
    "    return summary"
   ]
  },
  {
   "cell_type": "code",
   "execution_count": 15,
   "metadata": {
    "execution": {
     "iopub.execute_input": "2023-11-20T08:49:35.645560Z",
     "iopub.status.busy": "2023-11-20T08:49:35.645150Z",
     "iopub.status.idle": "2023-11-20T08:56:41.374516Z",
     "shell.execute_reply": "2023-11-20T08:56:41.373937Z",
     "shell.execute_reply.started": "2023-11-20T08:49:35.645538Z"
    }
   },
   "outputs": [
    {
     "name": "stdout",
     "output_type": "stream",
     "text": [
      "--------------Performing Feature Selection----------------\n",
      "Algorithm: EFeaturesSelectionAlgorithm.RecursiveByShapValues\n"
     ]
    },
    {
     "data": {
      "application/vnd.jupyter.widget-view+json": {
       "model_id": "99ab5ff0c991444bb5bd83e9b51e4518",
       "version_major": 2,
       "version_minor": 0
      },
      "text/plain": [
       "MetricVisualizer(layout=Layout(align_self='stretch', height='500px'))"
      ]
     },
     "metadata": {},
     "output_type": "display_data"
    },
    {
     "data": {
      "text/html": [
       "        <script type=\"text/javascript\">\n",
       "        window.PlotlyConfig = {MathJaxConfig: 'local'};\n",
       "        if (window.MathJax && window.MathJax.Hub && window.MathJax.Hub.Config) {window.MathJax.Hub.Config({SVG: {font: \"STIX-Web\"}});}\n",
       "        if (typeof require !== 'undefined') {\n",
       "        require.undef(\"plotly\");\n",
       "        requirejs.config({\n",
       "            paths: {\n",
       "                'plotly': ['https://cdn.plot.ly/plotly-2.25.2.min']\n",
       "            }\n",
       "        });\n",
       "        require(['plotly'], function(Plotly) {\n",
       "            window._Plotly = Plotly;\n",
       "        });\n",
       "        }\n",
       "        </script>\n",
       "        "
      ]
     },
     "metadata": {},
     "output_type": "display_data"
    },
    {
     "data": {
      "text/html": [
       "<div>                            <div id=\"b8ad22de-a3ba-4ba5-ba48-ab9cdd8f27d1\" class=\"plotly-graph-div\" style=\"height:525px; width:100%;\"></div>            <script type=\"text/javascript\">                require([\"plotly\"], function(Plotly) {                    window.PLOTLYENV=window.PLOTLYENV || {};                                    if (document.getElementById(\"b8ad22de-a3ba-4ba5-ba48-ab9cdd8f27d1\")) {                    Plotly.newPlot(                        \"b8ad22de-a3ba-4ba5-ba48-ab9cdd8f27d1\",                        [{\"line\":{\"color\":\"rgb(51,160,44)\"},\"mode\":\"lines+markers\",\"name\":\"\",\"text\":[\"\",\"reference_price_wap_imb\",\"bid_price_diff_3\",\"global_median_price\",\"stock_id\",\"bid_price_diff_2\",\"ask_price_bid_price_imb\",\"bid_price_diff_1\",\"price_spread\",\"ask_price_wap_imb\",\"all_prices_kurt\",\"market_urgency_diff_1\",\"near_price_ask_price_diff\",\"ask_price_wap_diff\",\"near_price_ask_price_imb\",\"reference_price_far_price_imb\",\"reference_price_ask_price_imb\",\"far_price_ask_price_imb\",\"bid_price\",\"far_price_bid_price_diff\",\"imbalance_buy_sell_flag_ret_2\",\"global_std_price\",\"ask_price\",\"ask_price_bid_price_reference_price_imb2\",\"imbalance_buy_sell_flag_ret_3\",\"near_price_bid_price_diff\",\"reference_price_shift_10\",\"global_ptp_size\",\"far_price\",\"imbalance_momentum_diff_3\",\"matched_size_moving_sum_2\",\"far_price_ask_price_diff\",\"far_price_near_price_imb\",\"reference_price_ret_3\",\"global_ptp_price\",\"matched_size\",\"mid_price\",\"size_imbalance_bid\",\"far_price_bid_price_imb\",\"far_price_wap_imb\",\"bid_size_ask_size_imbalance_size_imb2\",\"depth_pressure\",\"all_sizes_mean\",\"all_sizes_std\",\"all_prices_skew\",\"matched_size_ret_3\",\"matched_size_moving_average_3\",\"matched_size_moving_sum_3\",\"reference_price_bid_price_imb\",\"ask_price_diff_3\",\"reference_price_bid_price_diff\",\"near_price_wap_diff\",\"spread_intensity\",\"imbalance_size_ret_2\",\"reference_price_ret_2\",\"bid_size\",\"market_urgency_diff_2\",\"far_price_wap_diff\",\"reference_price_ask_price_diff\",\"ask_size_diff_10\",\"imbalance_size_shift_2\",\"matched_size_moving_average_2\",\"imbalance_buy_sell_flag_ret_10\",\"reference_price_shift_2\",\"reference_price_moving_average_2\",\"matched_size_shift_3\",\"imbalance_momentum_diff_1\",\"near_price_bid_price_imb\",\"reference_price\",\"reference_price_ret_10\",\"reference_price_moving_sum_10\",\"imbalance_buy_sell_flag_ret_1\",\"near_price\",\"ask_size_diff_1\",\"ask_size_diff_2\",\"ask_size_diff_3\",\"bid_size_diff_1\",\"bid_size_diff_2\",\"bid_size_diff_3\",\"imbalance_momentum_diff_2\",\"imbalance_momentum_diff_10\",\"size_imbalance_diff_1\",\"ask_price_diff_2\",\"reference_price_ret_1\",\"imbalance_size_ret_1\",\"reference_price_moving_sum_2\",\"matched_size_shift_2\",\"ask_price_diff_10\",\"far_price_near_price_diff\",\"global_std_size\",\"matched_size_moving_average_10\",\"matched_size_moving_sum_10\",\"imbalance_size_shift_1\",\"imbalance_size_shift_3\",\"imbalance_size_moving_sum_3\",\"imbalance_size_shift_10\",\"reference_price_shift_1\",\"reference_price_shift_3\",\"reference_price_moving_average_3\",\"reference_price_moving_sum_3\",\"near_price_wap_imb\",\"seconds\",\"matched_size_ret_2\",\"reference_price_far_price_diff\",\"imbalance_size_moving_average_3\",\"dow\"],\"x\":[0,1,2,3,4,5,6,7,8,9,10,11,12,13,14,15,16,17,18,19,20,21,22,23,24,25,26,27,28,29,30,31,32,33,34,35,36,37,38,39,40,41,42,43,44,45,46,47,48,49,50,51,52,53,54,55,56,57,58,59,60,61,62,63,64,65,66,67,68,69,70,71,72,73,74,75,76,77,78,79,80,81,82,83,84,85,86,87,88,89,90,91,92,93,94,95,96,97,98,99,100,101,102,103,104,105],\"y\":[4.839992424432515,4.839120023817728,4.838431358392668,4.837769688035756,4.8372629187143135,4.836868794153483,4.836720648283871,4.836611997439658,4.836502880744502,4.836394743245176,4.836296679429192,4.836228276484919,4.83618328180764,4.836155119510852,4.836135063892153,4.836125418611169,4.836118506582163,4.836112566612738,4.836106911534969,4.8361016478437335,4.836097016010434,4.836092674885963,4.836088834221942,4.8360851916154495,4.836082276180164,4.836079408446332,4.836077055400501,4.836075086441595,4.836073778704004,4.836072602696897,4.836071453039644,4.8360703157205664,4.836069428657043,4.836068664142658,4.836068430651347,4.836068430651347,4.836068430651347,4.836068430651347,4.836068430651347,4.836068430651347,4.836068430651347,4.836068430651347,4.836068430651347,4.836068430651347,4.836068430651347,4.836068430651347,4.836068430651347,4.836068430651347,4.834732999675457,4.833794327875282,4.833282430401248,4.832939300735048,4.832770530810993,4.832653633989222,4.832569655908344,4.832493335539018,4.832428860477275,4.832411989950084,4.832395453439404,4.832383105164493,4.832376695312329,4.832370832362809,4.832365198662674,4.8323601530098435,4.832356919424972,4.832353926965562,4.832351954719703,4.832351271909306,4.832351271909306,4.832351271909306,4.832351271909306,4.832351271909306,4.832351271909306,4.832351271909306,4.832351271909306,4.832351271909306,4.832351271909306,4.832351271909306,4.832351271909306,4.832351271909306,4.832351271909306,4.832351271909306,4.831953470219971,4.831589943594359,4.831351485458571,4.83133357942401,4.831324070356854,4.831324070356854,4.831324070356854,4.831324070356854,4.831324070356854,4.831324070356854,4.831324070356854,4.831324070356854,4.831324070356854,4.831324070356854,4.831324070356854,4.831324070356854,4.831324070356854,4.831328709081729,4.8313371117139345,4.831348339773249,4.83136403518892,4.831384174982975,4.831405512918169,4.831427377573652],\"type\":\"scatter\"},{\"marker\":{\"size\":10,\"symbol\":\"square\"},\"mode\":\"markers\",\"name\":\"\",\"text\":[\"\",\"matched_size_moving_sum_3\",\"size_imbalance_diff_1\",\"dow\"],\"x\":[0,47,81,105],\"y\":[4.839992424432515,4.836068430651347,4.832351271909306,4.831427377573652],\"type\":\"scatter\"},{\"mode\":\"text\",\"name\":\"\",\"text\":[\"\",\"25\",\"120\",\"162\",\"0\",\"119\",\"33\",\"118\",\"45\",\"34\",\"56\",\"130\",\"151\",\"154\",\"30\",\"21\",\"23\",\"27\",\"8\",\"149\",\"103\",\"163\",\"10\",\"37\",\"107\",\"152\",\"96\",\"161\",\"6\",\"136\",\"63\",\"148\",\"26\",\"93\",\"164\",\"5\",\"14\",\"18\",\"28\",\"29\",\"43\",\"49\",\"51\",\"53\",\"54\",\"65\",\"66\",\"67\",\"24\",\"116\",\"145\",\"153\",\"46\",\"75\",\"89\",\"9\",\"131\",\"150\",\"144\",\"125\",\"74\",\"62\",\"111\",\"88\",\"90\",\"64\",\"134\",\"31\",\"4\",\"97\",\"99\",\"101\",\"7\",\"122\",\"123\",\"124\",\"126\",\"127\",\"128\",\"135\",\"137\",\"138\",\"115\",\"87\",\"73\",\"91\",\"60\",\"117\",\"147\",\"160\",\"70\",\"71\",\"72\",\"78\",\"81\",\"82\",\"86\",\"92\",\"94\",\"95\",\"32\",\"157\",\"61\",\"142\",\"80\",\"156\"],\"textfont\":{\"color\":\"rgb(51,160,44)\",\"family\":\"sans serif\",\"size\":18},\"textposition\":\"bottom center\",\"visible\":false,\"x\":[0,1,2,3,4,5,6,7,8,9,10,11,12,13,14,15,16,17,18,19,20,21,22,23,24,25,26,27,28,29,30,31,32,33,34,35,36,37,38,39,40,41,42,43,44,45,46,47,48,49,50,51,52,53,54,55,56,57,58,59,60,61,62,63,64,65,66,67,68,69,70,71,72,73,74,75,76,77,78,79,80,81,82,83,84,85,86,87,88,89,90,91,92,93,94,95,96,97,98,99,100,101,102,103,104,105],\"y\":[4.839992424432515,4.839120023817728,4.838431358392668,4.837769688035756,4.8372629187143135,4.836868794153483,4.836720648283871,4.836611997439658,4.836502880744502,4.836394743245176,4.836296679429192,4.836228276484919,4.83618328180764,4.836155119510852,4.836135063892153,4.836125418611169,4.836118506582163,4.836112566612738,4.836106911534969,4.8361016478437335,4.836097016010434,4.836092674885963,4.836088834221942,4.8360851916154495,4.836082276180164,4.836079408446332,4.836077055400501,4.836075086441595,4.836073778704004,4.836072602696897,4.836071453039644,4.8360703157205664,4.836069428657043,4.836068664142658,4.836068430651347,4.836068430651347,4.836068430651347,4.836068430651347,4.836068430651347,4.836068430651347,4.836068430651347,4.836068430651347,4.836068430651347,4.836068430651347,4.836068430651347,4.836068430651347,4.836068430651347,4.836068430651347,4.834732999675457,4.833794327875282,4.833282430401248,4.832939300735048,4.832770530810993,4.832653633989222,4.832569655908344,4.832493335539018,4.832428860477275,4.832411989950084,4.832395453439404,4.832383105164493,4.832376695312329,4.832370832362809,4.832365198662674,4.8323601530098435,4.832356919424972,4.832353926965562,4.832351954719703,4.832351271909306,4.832351271909306,4.832351271909306,4.832351271909306,4.832351271909306,4.832351271909306,4.832351271909306,4.832351271909306,4.832351271909306,4.832351271909306,4.832351271909306,4.832351271909306,4.832351271909306,4.832351271909306,4.832351271909306,4.831953470219971,4.831589943594359,4.831351485458571,4.83133357942401,4.831324070356854,4.831324070356854,4.831324070356854,4.831324070356854,4.831324070356854,4.831324070356854,4.831324070356854,4.831324070356854,4.831324070356854,4.831324070356854,4.831324070356854,4.831324070356854,4.831324070356854,4.831328709081729,4.8313371117139345,4.831348339773249,4.83136403518892,4.831384174982975,4.831405512918169,4.831427377573652],\"type\":\"scatter\"},{\"mode\":\"text\",\"name\":\"\",\"text\":[\"\",\"reference_price_wap_imb\",\"bid_price_diff_3\",\"global_median_price\",\"stock_id\",\"bid_price_diff_2\",\"ask_price_bid_price_imb\",\"bid_price_diff_1\",\"price_spread\",\"ask_price_wap_imb\",\"all_prices_kurt\",\"market_urgency_diff_1\",\"near_price_ask_price_diff\",\"ask_price_wap_diff\",\"near_price_ask_price_imb\",\"reference_price_far_price_imb\",\"reference_price_ask_price_imb\",\"far_price_ask_price_imb\",\"bid_price\",\"far_price_bid_price_diff\",\"imbalance_buy_sell_flag_ret_2\",\"global_std_price\",\"ask_price\",\"ask_price_bid_price_reference_price_imb2\",\"imbalance_buy_sell_flag_ret_3\",\"near_price_bid_price_diff\",\"reference_price_shift_10\",\"global_ptp_size\",\"far_price\",\"imbalance_momentum_diff_3\",\"matched_size_moving_sum_2\",\"far_price_ask_price_diff\",\"far_price_near_price_imb\",\"reference_price_ret_3\",\"global_ptp_price\",\"matched_size\",\"mid_price\",\"size_imbalance_bid\",\"far_price_bid_price_imb\",\"far_price_wap_imb\",\"bid_size_ask_size_imbalance_size_imb2\",\"depth_pressure\",\"all_sizes_mean\",\"all_sizes_std\",\"all_prices_skew\",\"matched_size_ret_3\",\"matched_size_moving_average_3\",\"matched_size_moving_sum_3\",\"reference_price_bid_price_imb\",\"ask_price_diff_3\",\"reference_price_bid_price_diff\",\"near_price_wap_diff\",\"spread_intensity\",\"imbalance_size_ret_2\",\"reference_price_ret_2\",\"bid_size\",\"market_urgency_diff_2\",\"far_price_wap_diff\",\"reference_price_ask_price_diff\",\"ask_size_diff_10\",\"imbalance_size_shift_2\",\"matched_size_moving_average_2\",\"imbalance_buy_sell_flag_ret_10\",\"reference_price_shift_2\",\"reference_price_moving_average_2\",\"matched_size_shift_3\",\"imbalance_momentum_diff_1\",\"near_price_bid_price_imb\",\"reference_price\",\"reference_price_ret_10\",\"reference_price_moving_sum_10\",\"imbalance_buy_sell_flag_ret_1\",\"near_price\",\"ask_size_diff_1\",\"ask_size_diff_2\",\"ask_size_diff_3\",\"bid_size_diff_1\",\"bid_size_diff_2\",\"bid_size_diff_3\",\"imbalance_momentum_diff_2\",\"imbalance_momentum_diff_10\",\"size_imbalance_diff_1\",\"ask_price_diff_2\",\"reference_price_ret_1\",\"imbalance_size_ret_1\",\"reference_price_moving_sum_2\",\"matched_size_shift_2\",\"ask_price_diff_10\",\"far_price_near_price_diff\",\"global_std_size\",\"matched_size_moving_average_10\",\"matched_size_moving_sum_10\",\"imbalance_size_shift_1\",\"imbalance_size_shift_3\",\"imbalance_size_moving_sum_3\",\"imbalance_size_shift_10\",\"reference_price_shift_1\",\"reference_price_shift_3\",\"reference_price_moving_average_3\",\"reference_price_moving_sum_3\",\"near_price_wap_imb\",\"seconds\",\"matched_size_ret_2\",\"reference_price_far_price_diff\",\"imbalance_size_moving_average_3\",\"dow\"],\"textfont\":{\"color\":\"rgb(51,160,44)\",\"family\":\"sans serif\",\"size\":18},\"textposition\":\"bottom center\",\"visible\":false,\"x\":[0,1,2,3,4,5,6,7,8,9,10,11,12,13,14,15,16,17,18,19,20,21,22,23,24,25,26,27,28,29,30,31,32,33,34,35,36,37,38,39,40,41,42,43,44,45,46,47,48,49,50,51,52,53,54,55,56,57,58,59,60,61,62,63,64,65,66,67,68,69,70,71,72,73,74,75,76,77,78,79,80,81,82,83,84,85,86,87,88,89,90,91,92,93,94,95,96,97,98,99,100,101,102,103,104,105],\"y\":[4.839992424432515,4.839120023817728,4.838431358392668,4.837769688035756,4.8372629187143135,4.836868794153483,4.836720648283871,4.836611997439658,4.836502880744502,4.836394743245176,4.836296679429192,4.836228276484919,4.83618328180764,4.836155119510852,4.836135063892153,4.836125418611169,4.836118506582163,4.836112566612738,4.836106911534969,4.8361016478437335,4.836097016010434,4.836092674885963,4.836088834221942,4.8360851916154495,4.836082276180164,4.836079408446332,4.836077055400501,4.836075086441595,4.836073778704004,4.836072602696897,4.836071453039644,4.8360703157205664,4.836069428657043,4.836068664142658,4.836068430651347,4.836068430651347,4.836068430651347,4.836068430651347,4.836068430651347,4.836068430651347,4.836068430651347,4.836068430651347,4.836068430651347,4.836068430651347,4.836068430651347,4.836068430651347,4.836068430651347,4.836068430651347,4.834732999675457,4.833794327875282,4.833282430401248,4.832939300735048,4.832770530810993,4.832653633989222,4.832569655908344,4.832493335539018,4.832428860477275,4.832411989950084,4.832395453439404,4.832383105164493,4.832376695312329,4.832370832362809,4.832365198662674,4.8323601530098435,4.832356919424972,4.832353926965562,4.832351954719703,4.832351271909306,4.832351271909306,4.832351271909306,4.832351271909306,4.832351271909306,4.832351271909306,4.832351271909306,4.832351271909306,4.832351271909306,4.832351271909306,4.832351271909306,4.832351271909306,4.832351271909306,4.832351271909306,4.832351271909306,4.831953470219971,4.831589943594359,4.831351485458571,4.83133357942401,4.831324070356854,4.831324070356854,4.831324070356854,4.831324070356854,4.831324070356854,4.831324070356854,4.831324070356854,4.831324070356854,4.831324070356854,4.831324070356854,4.831324070356854,4.831324070356854,4.831324070356854,4.831328709081729,4.8313371117139345,4.831348339773249,4.83136403518892,4.831384174982975,4.831405512918169,4.831427377573652],\"type\":\"scatter\"}],                        {\"template\":{\"data\":{\"histogram2dcontour\":[{\"type\":\"histogram2dcontour\",\"colorbar\":{\"outlinewidth\":0,\"ticks\":\"\"},\"colorscale\":[[0.0,\"#0d0887\"],[0.1111111111111111,\"#46039f\"],[0.2222222222222222,\"#7201a8\"],[0.3333333333333333,\"#9c179e\"],[0.4444444444444444,\"#bd3786\"],[0.5555555555555556,\"#d8576b\"],[0.6666666666666666,\"#ed7953\"],[0.7777777777777778,\"#fb9f3a\"],[0.8888888888888888,\"#fdca26\"],[1.0,\"#f0f921\"]]}],\"choropleth\":[{\"type\":\"choropleth\",\"colorbar\":{\"outlinewidth\":0,\"ticks\":\"\"}}],\"histogram2d\":[{\"type\":\"histogram2d\",\"colorbar\":{\"outlinewidth\":0,\"ticks\":\"\"},\"colorscale\":[[0.0,\"#0d0887\"],[0.1111111111111111,\"#46039f\"],[0.2222222222222222,\"#7201a8\"],[0.3333333333333333,\"#9c179e\"],[0.4444444444444444,\"#bd3786\"],[0.5555555555555556,\"#d8576b\"],[0.6666666666666666,\"#ed7953\"],[0.7777777777777778,\"#fb9f3a\"],[0.8888888888888888,\"#fdca26\"],[1.0,\"#f0f921\"]]}],\"heatmap\":[{\"type\":\"heatmap\",\"colorbar\":{\"outlinewidth\":0,\"ticks\":\"\"},\"colorscale\":[[0.0,\"#0d0887\"],[0.1111111111111111,\"#46039f\"],[0.2222222222222222,\"#7201a8\"],[0.3333333333333333,\"#9c179e\"],[0.4444444444444444,\"#bd3786\"],[0.5555555555555556,\"#d8576b\"],[0.6666666666666666,\"#ed7953\"],[0.7777777777777778,\"#fb9f3a\"],[0.8888888888888888,\"#fdca26\"],[1.0,\"#f0f921\"]]}],\"heatmapgl\":[{\"type\":\"heatmapgl\",\"colorbar\":{\"outlinewidth\":0,\"ticks\":\"\"},\"colorscale\":[[0.0,\"#0d0887\"],[0.1111111111111111,\"#46039f\"],[0.2222222222222222,\"#7201a8\"],[0.3333333333333333,\"#9c179e\"],[0.4444444444444444,\"#bd3786\"],[0.5555555555555556,\"#d8576b\"],[0.6666666666666666,\"#ed7953\"],[0.7777777777777778,\"#fb9f3a\"],[0.8888888888888888,\"#fdca26\"],[1.0,\"#f0f921\"]]}],\"contourcarpet\":[{\"type\":\"contourcarpet\",\"colorbar\":{\"outlinewidth\":0,\"ticks\":\"\"}}],\"contour\":[{\"type\":\"contour\",\"colorbar\":{\"outlinewidth\":0,\"ticks\":\"\"},\"colorscale\":[[0.0,\"#0d0887\"],[0.1111111111111111,\"#46039f\"],[0.2222222222222222,\"#7201a8\"],[0.3333333333333333,\"#9c179e\"],[0.4444444444444444,\"#bd3786\"],[0.5555555555555556,\"#d8576b\"],[0.6666666666666666,\"#ed7953\"],[0.7777777777777778,\"#fb9f3a\"],[0.8888888888888888,\"#fdca26\"],[1.0,\"#f0f921\"]]}],\"surface\":[{\"type\":\"surface\",\"colorbar\":{\"outlinewidth\":0,\"ticks\":\"\"},\"colorscale\":[[0.0,\"#0d0887\"],[0.1111111111111111,\"#46039f\"],[0.2222222222222222,\"#7201a8\"],[0.3333333333333333,\"#9c179e\"],[0.4444444444444444,\"#bd3786\"],[0.5555555555555556,\"#d8576b\"],[0.6666666666666666,\"#ed7953\"],[0.7777777777777778,\"#fb9f3a\"],[0.8888888888888888,\"#fdca26\"],[1.0,\"#f0f921\"]]}],\"mesh3d\":[{\"type\":\"mesh3d\",\"colorbar\":{\"outlinewidth\":0,\"ticks\":\"\"}}],\"scatter\":[{\"fillpattern\":{\"fillmode\":\"overlay\",\"size\":10,\"solidity\":0.2},\"type\":\"scatter\"}],\"parcoords\":[{\"type\":\"parcoords\",\"line\":{\"colorbar\":{\"outlinewidth\":0,\"ticks\":\"\"}}}],\"scatterpolargl\":[{\"type\":\"scatterpolargl\",\"marker\":{\"colorbar\":{\"outlinewidth\":0,\"ticks\":\"\"}}}],\"bar\":[{\"error_x\":{\"color\":\"#2a3f5f\"},\"error_y\":{\"color\":\"#2a3f5f\"},\"marker\":{\"line\":{\"color\":\"#E5ECF6\",\"width\":0.5},\"pattern\":{\"fillmode\":\"overlay\",\"size\":10,\"solidity\":0.2}},\"type\":\"bar\"}],\"scattergeo\":[{\"type\":\"scattergeo\",\"marker\":{\"colorbar\":{\"outlinewidth\":0,\"ticks\":\"\"}}}],\"scatterpolar\":[{\"type\":\"scatterpolar\",\"marker\":{\"colorbar\":{\"outlinewidth\":0,\"ticks\":\"\"}}}],\"histogram\":[{\"marker\":{\"pattern\":{\"fillmode\":\"overlay\",\"size\":10,\"solidity\":0.2}},\"type\":\"histogram\"}],\"scattergl\":[{\"type\":\"scattergl\",\"marker\":{\"colorbar\":{\"outlinewidth\":0,\"ticks\":\"\"}}}],\"scatter3d\":[{\"type\":\"scatter3d\",\"line\":{\"colorbar\":{\"outlinewidth\":0,\"ticks\":\"\"}},\"marker\":{\"colorbar\":{\"outlinewidth\":0,\"ticks\":\"\"}}}],\"scattermapbox\":[{\"type\":\"scattermapbox\",\"marker\":{\"colorbar\":{\"outlinewidth\":0,\"ticks\":\"\"}}}],\"scatterternary\":[{\"type\":\"scatterternary\",\"marker\":{\"colorbar\":{\"outlinewidth\":0,\"ticks\":\"\"}}}],\"scattercarpet\":[{\"type\":\"scattercarpet\",\"marker\":{\"colorbar\":{\"outlinewidth\":0,\"ticks\":\"\"}}}],\"carpet\":[{\"aaxis\":{\"endlinecolor\":\"#2a3f5f\",\"gridcolor\":\"white\",\"linecolor\":\"white\",\"minorgridcolor\":\"white\",\"startlinecolor\":\"#2a3f5f\"},\"baxis\":{\"endlinecolor\":\"#2a3f5f\",\"gridcolor\":\"white\",\"linecolor\":\"white\",\"minorgridcolor\":\"white\",\"startlinecolor\":\"#2a3f5f\"},\"type\":\"carpet\"}],\"table\":[{\"cells\":{\"fill\":{\"color\":\"#EBF0F8\"},\"line\":{\"color\":\"white\"}},\"header\":{\"fill\":{\"color\":\"#C8D4E3\"},\"line\":{\"color\":\"white\"}},\"type\":\"table\"}],\"barpolar\":[{\"marker\":{\"line\":{\"color\":\"#E5ECF6\",\"width\":0.5},\"pattern\":{\"fillmode\":\"overlay\",\"size\":10,\"solidity\":0.2}},\"type\":\"barpolar\"}],\"pie\":[{\"automargin\":true,\"type\":\"pie\"}]},\"layout\":{\"autotypenumbers\":\"strict\",\"colorway\":[\"#636efa\",\"#EF553B\",\"#00cc96\",\"#ab63fa\",\"#FFA15A\",\"#19d3f3\",\"#FF6692\",\"#B6E880\",\"#FF97FF\",\"#FECB52\"],\"font\":{\"color\":\"#2a3f5f\"},\"hovermode\":\"closest\",\"hoverlabel\":{\"align\":\"left\"},\"paper_bgcolor\":\"white\",\"plot_bgcolor\":\"#E5ECF6\",\"polar\":{\"bgcolor\":\"#E5ECF6\",\"angularaxis\":{\"gridcolor\":\"white\",\"linecolor\":\"white\",\"ticks\":\"\"},\"radialaxis\":{\"gridcolor\":\"white\",\"linecolor\":\"white\",\"ticks\":\"\"}},\"ternary\":{\"bgcolor\":\"#E5ECF6\",\"aaxis\":{\"gridcolor\":\"white\",\"linecolor\":\"white\",\"ticks\":\"\"},\"baxis\":{\"gridcolor\":\"white\",\"linecolor\":\"white\",\"ticks\":\"\"},\"caxis\":{\"gridcolor\":\"white\",\"linecolor\":\"white\",\"ticks\":\"\"}},\"coloraxis\":{\"colorbar\":{\"outlinewidth\":0,\"ticks\":\"\"}},\"colorscale\":{\"sequential\":[[0.0,\"#0d0887\"],[0.1111111111111111,\"#46039f\"],[0.2222222222222222,\"#7201a8\"],[0.3333333333333333,\"#9c179e\"],[0.4444444444444444,\"#bd3786\"],[0.5555555555555556,\"#d8576b\"],[0.6666666666666666,\"#ed7953\"],[0.7777777777777778,\"#fb9f3a\"],[0.8888888888888888,\"#fdca26\"],[1.0,\"#f0f921\"]],\"sequentialminus\":[[0.0,\"#0d0887\"],[0.1111111111111111,\"#46039f\"],[0.2222222222222222,\"#7201a8\"],[0.3333333333333333,\"#9c179e\"],[0.4444444444444444,\"#bd3786\"],[0.5555555555555556,\"#d8576b\"],[0.6666666666666666,\"#ed7953\"],[0.7777777777777778,\"#fb9f3a\"],[0.8888888888888888,\"#fdca26\"],[1.0,\"#f0f921\"]],\"diverging\":[[0,\"#8e0152\"],[0.1,\"#c51b7d\"],[0.2,\"#de77ae\"],[0.3,\"#f1b6da\"],[0.4,\"#fde0ef\"],[0.5,\"#f7f7f7\"],[0.6,\"#e6f5d0\"],[0.7,\"#b8e186\"],[0.8,\"#7fbc41\"],[0.9,\"#4d9221\"],[1,\"#276419\"]]},\"xaxis\":{\"gridcolor\":\"white\",\"linecolor\":\"white\",\"ticks\":\"\",\"title\":{\"standoff\":15},\"zerolinecolor\":\"white\",\"automargin\":true,\"zerolinewidth\":2},\"yaxis\":{\"gridcolor\":\"white\",\"linecolor\":\"white\",\"ticks\":\"\",\"title\":{\"standoff\":15},\"zerolinecolor\":\"white\",\"automargin\":true,\"zerolinewidth\":2},\"scene\":{\"xaxis\":{\"backgroundcolor\":\"#E5ECF6\",\"gridcolor\":\"white\",\"linecolor\":\"white\",\"showbackground\":true,\"ticks\":\"\",\"zerolinecolor\":\"white\",\"gridwidth\":2},\"yaxis\":{\"backgroundcolor\":\"#E5ECF6\",\"gridcolor\":\"white\",\"linecolor\":\"white\",\"showbackground\":true,\"ticks\":\"\",\"zerolinecolor\":\"white\",\"gridwidth\":2},\"zaxis\":{\"backgroundcolor\":\"#E5ECF6\",\"gridcolor\":\"white\",\"linecolor\":\"white\",\"showbackground\":true,\"ticks\":\"\",\"zerolinecolor\":\"white\",\"gridwidth\":2}},\"shapedefaults\":{\"line\":{\"color\":\"#2a3f5f\"}},\"annotationdefaults\":{\"arrowcolor\":\"#2a3f5f\",\"arrowhead\":0,\"arrowwidth\":1},\"geo\":{\"bgcolor\":\"white\",\"landcolor\":\"#E5ECF6\",\"subunitcolor\":\"white\",\"showland\":true,\"showlakes\":true,\"lakecolor\":\"white\"},\"title\":{\"x\":0.05},\"mapbox\":{\"style\":\"light\"}}},\"title\":{\"text\":\"Loss by eliminated features\"},\"xaxis\":{\"title\":{\"text\":\"number of removed features\"},\"gridcolor\":\"rgb(255,255,255)\",\"showgrid\":true,\"showline\":false,\"showticklabels\":true,\"tickcolor\":\"rgb(127,127,127)\",\"ticks\":\"outside\",\"zeroline\":false},\"yaxis\":{\"title\":{\"text\":\"loss value\",\"font\":{\"color\":\"rgb(51,160,44)\"}},\"tickfont\":{\"color\":\"rgb(51,160,44)\"},\"gridcolor\":\"rgb(255,255,255)\",\"showgrid\":true,\"showline\":false,\"showticklabels\":true,\"tickcolor\":\"rgb(127,127,127)\",\"ticks\":\"outside\",\"zeroline\":false},\"updatemenus\":[{\"active\":0,\"buttons\":[{\"args\":[{\"visible\":[true,true,false,false]}],\"label\":\"Hide features\",\"method\":\"update\"},{\"args\":[{\"visible\":[true,true,true,false]}],\"label\":\"Show indices\",\"method\":\"update\"},{\"args\":[{\"visible\":[true,true,false,true]}],\"label\":\"Show names\",\"method\":\"update\"}],\"pad\":{\"r\":10,\"t\":10},\"showactive\":true,\"x\":-0.25,\"xanchor\":\"left\",\"y\":1.03,\"yanchor\":\"top\"}],\"showlegend\":false},                        {\"responsive\": true}                    ).then(function(){\n",
       "                            \n",
       "var gd = document.getElementById('b8ad22de-a3ba-4ba5-ba48-ab9cdd8f27d1');\n",
       "var x = new MutationObserver(function (mutations, observer) {{\n",
       "        var display = window.getComputedStyle(gd).display;\n",
       "        if (!display || display === 'none') {{\n",
       "            console.log([gd, 'removed!']);\n",
       "            Plotly.purge(gd);\n",
       "            observer.disconnect();\n",
       "        }}\n",
       "}});\n",
       "\n",
       "// Listen for the removal of the full notebook cells\n",
       "var notebookContainer = gd.closest('#notebook-container');\n",
       "if (notebookContainer) {{\n",
       "    x.observe(notebookContainer, {childList: true});\n",
       "}}\n",
       "\n",
       "// Listen for the clearing of the current output cell\n",
       "var outputEl = gd.closest('.output');\n",
       "if (outputEl) {{\n",
       "    x.observe(outputEl, {childList: true});\n",
       "}}\n",
       "\n",
       "                        })                };                });            </script>        </div>"
      ]
     },
     "metadata": {},
     "output_type": "display_data"
    },
    {
     "name": "stdout",
     "output_type": "stream",
     "text": [
      "Selected features: ['seconds_in_bucket', 'imbalance_size', 'imbalance_buy_sell_flag', 'ask_size', 'wap', 'volume', 'liquidity_imbalance', 'matched_imbalance', 'size_imbalance', 'size_imbalance_ask', 'matched_size_bid_ask', 'reference_price_near_price_imb', 'bid_price_wap_imb', 'ask_price_bid_price_wap_imb2', 'ask_price_wap_reference_price_imb2', 'bid_price_wap_reference_price_imb2', 'matched_size_bid_size_ask_size_imb2', 'matched_size_bid_size_imbalance_size_imb2', 'matched_size_ask_size_imbalance_size_imb2', 'imbalance_momentum', 'price_pressure', 'market_urgency', 'all_prices_mean', 'all_prices_std', 'all_sizes_skew', 'all_sizes_kurt', 'matched_size_shift_1', 'matched_size_ret_1', 'matched_size_shift_10', 'matched_size_ret_10', 'imbalance_size_moving_average_2', 'imbalance_size_moving_sum_2', 'imbalance_size_ret_3', 'imbalance_size_ret_10', 'imbalance_size_moving_average_10', 'imbalance_size_moving_sum_10', 'reference_price_moving_average_10', 'imbalance_buy_sell_flag_shift_1', 'imbalance_buy_sell_flag_shift_2', 'imbalance_buy_sell_flag_moving_average_2', 'imbalance_buy_sell_flag_moving_sum_2', 'imbalance_buy_sell_flag_shift_3', 'imbalance_buy_sell_flag_moving_average_3', 'imbalance_buy_sell_flag_moving_sum_3', 'imbalance_buy_sell_flag_shift_10', 'imbalance_buy_sell_flag_moving_average_10', 'imbalance_buy_sell_flag_moving_sum_10', 'ask_price_diff_1', 'bid_price_diff_10', 'bid_size_diff_10', 'market_urgency_diff_3', 'market_urgency_diff_10', 'size_imbalance_diff_2', 'size_imbalance_diff_3', 'size_imbalance_diff_10', 'reference_price_near_price_diff', 'reference_price_wap_diff', 'bid_price_wap_diff', 'minute', 'global_median_size']\n"
     ]
    }
   ],
   "source": [
    "params = dict(loss_function='MAE',\n",
    "              eval_metric = 'MAE',\n",
    "              metric_period=100,\n",
    "              task_type='GPU',\n",
    "              od_type='Iter',\n",
    "              od_wait=20,\n",
    "              verbose=200,\n",
    "              random_seed=7,\n",
    "              border_count=32,\n",
    "              use_best_model=True,\n",
    "              bootstrap_type='Bernoulli',\n",
    "              subsample=0.9647,\n",
    "              #leaf_estimation_iterations = 100,\n",
    "              random_strength=2, # more bagging to reduce overfitting\n",
    "              depth=9,\n",
    "              l2_leaf_reg=17,\n",
    "              learning_rate=0.05,\n",
    "              #bagging_temperature=0.5,\n",
    "              )\n",
    "cat_features = ['stock_id']\n",
    "train_pool = cbt.Pool(data=df_train_feats, label=df_train['target'], cat_features=cat_features)\n",
    "val_pool = cbt.Pool(data=df_test_feats, label=df_test['target'], cat_features=cat_features)\n",
    "print(\"--------------Performing Feature Selection----------------\")\n",
    "model = cbt.CatBoostRegressor(**params)\n",
    "summary = select_features(train_pool, val_pool, model=model, algorithm=EFeaturesSelectionAlgorithm.RecursiveByShapValues, num_features=60, steps=3)"
   ]
  },
  {
   "cell_type": "code",
   "execution_count": 16,
   "metadata": {
    "execution": {
     "iopub.execute_input": "2023-11-20T10:13:26.279915Z",
     "iopub.status.busy": "2023-11-20T10:13:26.279608Z",
     "iopub.status.idle": "2023-11-20T10:13:26.285315Z",
     "shell.execute_reply": "2023-11-20T10:13:26.284709Z",
     "shell.execute_reply.started": "2023-11-20T10:13:26.279893Z"
    }
   },
   "outputs": [],
   "source": [
    "feature_name = ['seconds_in_bucket', 'imbalance_size', 'imbalance_buy_sell_flag', 'ask_size', 'wap', 'volume', 'liquidity_imbalance', 'matched_imbalance', 'size_imbalance', 'size_imbalance_ask', 'matched_size_bid_ask', 'reference_price_near_price_imb', 'bid_price_wap_imb', 'ask_price_bid_price_wap_imb2', 'ask_price_wap_reference_price_imb2', 'bid_price_wap_reference_price_imb2', 'matched_size_bid_size_ask_size_imb2', 'matched_size_bid_size_imbalance_size_imb2', 'matched_size_ask_size_imbalance_size_imb2', 'imbalance_momentum', 'price_pressure', 'market_urgency', 'all_prices_mean', 'all_prices_std', 'all_sizes_skew', 'all_sizes_kurt', 'matched_size_shift_1', 'matched_size_ret_1', 'matched_size_shift_10', 'matched_size_ret_10', 'imbalance_size_moving_average_2', 'imbalance_size_moving_sum_2', 'imbalance_size_ret_3', 'imbalance_size_ret_10', 'imbalance_size_moving_average_10', 'imbalance_size_moving_sum_10', 'reference_price_moving_average_10', 'imbalance_buy_sell_flag_shift_1', 'imbalance_buy_sell_flag_shift_2', 'imbalance_buy_sell_flag_moving_average_2', 'imbalance_buy_sell_flag_moving_sum_2', 'imbalance_buy_sell_flag_shift_3', 'imbalance_buy_sell_flag_moving_average_3', 'imbalance_buy_sell_flag_moving_sum_3', 'imbalance_buy_sell_flag_shift_10', 'imbalance_buy_sell_flag_moving_average_10', 'imbalance_buy_sell_flag_moving_sum_10', 'ask_price_diff_1', 'bid_price_diff_10', 'bid_size_diff_10', 'market_urgency_diff_3', 'market_urgency_diff_10', 'size_imbalance_diff_2', 'size_imbalance_diff_3', 'size_imbalance_diff_10', 'reference_price_near_price_diff', 'reference_price_wap_diff', 'bid_price_wap_diff', 'minute', 'global_median_size']"
   ]
  },
  {
   "cell_type": "code",
   "execution_count": 14,
   "metadata": {
    "execution": {
     "iopub.execute_input": "2023-11-16T09:30:03.061630Z",
     "iopub.status.busy": "2023-11-16T09:30:03.061413Z",
     "iopub.status.idle": "2023-11-16T09:30:03.074424Z",
     "shell.execute_reply": "2023-11-16T09:30:03.073804Z",
     "shell.execute_reply.started": "2023-11-16T09:30:03.061609Z"
    }
   },
   "outputs": [],
   "source": [
    "if CFG.TRAINING and 'CBT' in CFG.methods:\n",
    "    cbt_params = {\n",
    "        'task_type'           : 'GPU' if CFG.is_gpu else 'CPU',\n",
    "        'objective'           : 'MAE',\n",
    "        'eval_metric'         : 'MAE',\n",
    "        'bagging_temperature' : 0.5,\n",
    "    #     'colsample_bylevel'   : 0.7,\n",
    "        'iterations'          : 500 if not CFG.is_test_mode else 100,\n",
    "        'early_stopping_rounds' : 50 if not CFG.is_test_mode else 10,\n",
    "        'learning_rate'       : 0.065,\n",
    "        'max_depth'           : 7,\n",
    "        'l2_leaf_reg'         : 1.5,\n",
    "        'min_data_in_leaf'    : 1000,\n",
    "        'random_strength'     : 0.65, \n",
    "        'verbose'             : 0,\n",
    "        'use_best_model'      : True,\n",
    "        'random_seed'         : CFG.state,\n",
    "    }\n",
    "    feature_name = list(df_train_feats.columns)\n",
    "    print(f\"Feature length = {len(feature_name)}\")\n",
    "    \n",
    "    num_folds = 5\n",
    "    fold_size = 480 // num_folds\n",
    "    gap = 5\n",
    "    \n",
    "    cbt_models = []\n",
    "    scores = []\n",
    "    \n",
    "    model_save_path = f'{CFG.model_path}cbt_model' \n",
    "    if not os.path.exists(model_save_path):\n",
    "        os.makedirs(model_save_path)\n",
    "    \n",
    "    date_ids = df_train['date_id'].values\n",
    "    \n",
    "    for i in range(num_folds):\n",
    "        start = i * fold_size\n",
    "        end = start + fold_size\n",
    "        if i < num_folds - 1:  # No need to purge after the last fold\n",
    "            purged_start = end - 2\n",
    "            purged_end = end + gap + 2\n",
    "            train_indices = (date_ids >= start) & (date_ids < purged_start) | (date_ids > purged_end)\n",
    "        else:\n",
    "            train_indices = (date_ids >= start) & (date_ids < end)\n",
    "        \n",
    "        test_indices = (date_ids >= end) & (date_ids < end + fold_size)\n",
    "        \n",
    "        df_fold_train = df_train_feats[train_indices]\n",
    "        df_fold_train_target = df_train['target'][train_indices]\n",
    "        df_fold_valid = df_train_feats[test_indices]\n",
    "        df_fold_valid_target = df_train['target'][test_indices]\n",
    "        cbt_train = cbt.Pool(df_fold_train, df_fold_train_target)\n",
    "        cbt_valid = cbt.Pool(df_fold_valid, df_fold_valid_target)\n",
    "    \n",
    "        print(f\"Fold {i+1} Model Training\")\n",
    "        \n",
    "        # Train a LightGBM model for the current fold\n",
    "        cbt_model = cbt.CatBoostRegressor(**cbt_params)\n",
    "        cbt_model.fit(\n",
    "            cbt_train,\n",
    "            eval_set=[cbt_valid],\n",
    "        )\n",
    "    \n",
    "        cbt_models.append(cbt_model)\n",
    "        # Save the model to a file\n",
    "        model_filename = os.path.join(model_save_path, f'cbt_cv{i+1}.cbm')\n",
    "        cbt_model.save_model(model_filename)\n",
    "        print(f\"Model for fold {i+1} saved to {model_filename}\")\n",
    "    \n",
    "        # Evaluate model performance on the validation set\n",
    "        fold_predictions = cbt_model.predict(df_fold_valid[feature_name])\n",
    "        fold_score = mean_absolute_error(fold_predictions, df_fold_valid_target)\n",
    "        scores.append(fold_score)\n",
    "        print(f\"Fold {i+1} MAE: {fold_score}\")\n",
    "    \n",
    "        # Free up memory by deleting fold specific variables\n",
    "        del df_fold_train, df_fold_train_target, df_fold_valid, df_fold_valid_target\n",
    "        gc.collect()\n",
    "    \n",
    "    # Calculate the average best iteration from all regular folds\n",
    "    average_best_iteration = int(np.mean([model.get_best_iteration() for model in cbt_models]))\n",
    "    \n",
    "    # Update the lgb_params with the average best iteration\n",
    "    final_model_params = cbt_params.copy()\n",
    "    final_model_params['iterations'] = average_best_iteration\n",
    "    final_model_params['use_best_model'] = False\n",
    "    \n",
    "    print(f\"Training final model with average best iteration: {average_best_iteration}\")\n",
    "    \n",
    "    # Train the final model on the entire dataset\n",
    "    final_model = cbt.CatBoostRegressor(**final_model_params)\n",
    "    final_model.fit(\n",
    "        df_train_feats[feature_name],\n",
    "        df_train['target'],\n",
    "    )\n",
    "    \n",
    "    # Append the final model to the list of models\n",
    "    cbt_models.append(final_model)\n",
    "    \n",
    "    # Save the final model to a file\n",
    "    final_model_filename = os.path.join(model_save_path, 'cbt_fin.cbm')\n",
    "    final_model.save_model(final_model_filename)\n",
    "    print(f\"Final model saved to {final_model_filename}\")\n",
    "    \n",
    "    # Now 'models' holds the trained models for each fold and 'scores' holds the validation scores\n",
    "    print(f\"Average MAE across all folds: {np.mean(scores)}\")\n",
    "\n",
    "    os.makedirs(f'{model_save_path}/scores', exist_ok=True)\n",
    "    np.savetxt(f'{model_save_path}/scores/cbt_{datetime.datetime.now()}.txt', scores)"
   ]
  },
  {
   "cell_type": "code",
   "execution_count": 15,
   "metadata": {
    "execution": {
     "iopub.execute_input": "2023-11-16T09:30:03.075439Z",
     "iopub.status.busy": "2023-11-16T09:30:03.075233Z",
     "iopub.status.idle": "2023-11-16T09:30:03.102224Z",
     "shell.execute_reply": "2023-11-16T09:30:03.101768Z",
     "shell.execute_reply.started": "2023-11-16T09:30:03.075419Z"
    },
    "papermill": {
     "duration": null,
     "end_time": null,
     "exception": null,
     "start_time": null,
     "status": "pending"
    },
    "tags": []
   },
   "outputs": [],
   "source": [
    "def zero_sum(prices, volumes):\n",
    "    std_error = np.sqrt(volumes)\n",
    "    step = np.sum(prices) / np.sum(std_error)\n",
    "    out = prices - std_error * step\n",
    "    return out\n",
    "\n",
    "if CFG.INFERENCE:\n",
    "    import optiver2023\n",
    "    env = optiver2023.make_env()\n",
    "    iter_test = env.iter_test()\n",
    "    counter = 0\n",
    "    y_min, y_max = -64, 64\n",
    "    qps, predictions = [], []\n",
    "    cache = pd.DataFrame()\n",
    "    \n",
    "    lgb_models = [\n",
    "#         lgb.Booster(model_file='/kaggle/input/optiver-lgbm/lgb_model/lgb_cv1.txt'),\n",
    "#         lgb.Booster(model_file='/kaggle/input/optiver-lgbm/lgb_model/lgb_cv2.txt'),\n",
    "        lgb.Booster(model_file='/kaggle/input/optiver-lgbm/lgb_model/lgb_cv3.txt'),\n",
    "        lgb.Booster(model_file='/kaggle/input/optiver-lgbm/lgb_model/lgb_cv4.txt'),\n",
    "        lgb.Booster(model_file='/kaggle/input/optiver-lgbm/lgb_model/lgb_cv5.txt'),\n",
    "        lgb.Booster(model_file='/kaggle/input/optiver-lgbm/lgb_model/lgb_fin.txt'),\n",
    "    ]\n",
    "    cbt_models = [\n",
    "#         cbt.CatBoostRegressor().load_model('/kaggle/input/optiver-catboost/cbt_model/cbt_cv1.cbm'),\n",
    "#         cbt.CatBoostRegressor().load_model('/kaggle/input/optiver-catboost/cbt_model/cbt_cv2.cbm'),\n",
    "#         cbt.CatBoostRegressor().load_model('/kaggle/input/optiver-catboost/cbt_model/cbt_cv3.cbm'),\n",
    "#         cbt.CatBoostRegressor().load_model('/kaggle/input/optiver-catboost/cbt_model/cbt_cv4.cbm'),\n",
    "        cbt.CatBoostRegressor().load_model('/kaggle/input/optiver-catboost/cbt_model/cbt_cv5.cbm'),\n",
    "        cbt.CatBoostRegressor().load_model('/kaggle/input/optiver-catboost/cbt_model/cbt_fin.cbm'),\n",
    "    ]\n",
    "    # Weights for each fold model\n",
    "    lgb_model_weights = [0.1, 0.2, 0.3, 0.4]\n",
    "    cbt_model_weights = [0.4, 0.6]\n",
    "#     lgb_model_weights = [1/len(lgb_models)] * len(lgb_models)\n",
    "#     cbt_model_weights = [1/len(cbt_models)] * len(cbt_models)\n",
    "    \n",
    "    for (test, revealed_targets, sample_prediction) in iter_test:\n",
    "        now_time = time.time()\n",
    "        cache = pd.concat([cache, test], ignore_index=True, axis=0)\n",
    "        if counter > 0:\n",
    "            cache = cache.groupby(['stock_id']).tail(21).sort_values(by=['date_id', 'seconds_in_bucket', 'stock_id']).reset_index(drop=True)\n",
    "        feat = generate_all_features(cache)[-len(test):]\n",
    "\n",
    "        if test.currently_scored.iloc[0] == False:\n",
    "            sample_prediction['target'] = 0\n",
    "            env.predict(sample_prediction)\n",
    "            counter += 1\n",
    "            qps.append(time.time() - now_time)\n",
    "            if counter % 10 == 0:\n",
    "                print(counter, 'qps:', np.mean(qps))\n",
    "            continue\n",
    "                    \n",
    "        feat = feat.drop(columns=['currently_scored'])\n",
    "\n",
    "        # Generate predictions for each model and calculate the weighted average\n",
    "        lgb_predictions = np.zeros(len(test))\n",
    "        for model, weight in zip(lgb_models, lgb_model_weights):\n",
    "            lgb_predictions += weight * model.predict(feat)\n",
    "\n",
    "        lgb_predictions = zero_sum(lgb_predictions, test['bid_size']+test['ask_size'])\n",
    "        clipped_predictions = np.clip(lgb_predictions, y_min, y_max)\n",
    "        sample_prediction['target'] = clipped_predictions\n",
    "        # CatBoost\n",
    "        cbt_predictions = np.zeros(len(test))\n",
    "        for model, weight in zip(cbt_models, cbt_model_weights):\n",
    "            cbt_predictions += weight * model.predict(feat)\n",
    "\n",
    "        cbt_predictions = zero_sum(cbt_predictions, test['bid_size']+test['ask_size'])\n",
    "        clipped_predictions = np.clip(cbt_predictions, y_min, y_max)\n",
    "        sample_prediction['target'] = 0.4 * clipped_predictions + 0.6 * sample_prediction['target']\n",
    "\n",
    "        env.predict(sample_prediction)\n",
    "        counter += 1\n",
    "        qps.append(time.time() - now_time)\n",
    "        if counter % 10 == 0:\n",
    "            print(counter, 'qps:', np.mean(qps))\n",
    "\n",
    "    time_cost = 1.146 * np.mean(qps)\n",
    "    print(f\"The code will take approximately {np.round(time_cost, 4)} hours to reason about\")"
   ]
  },
  {
   "cell_type": "code",
   "execution_count": null,
   "metadata": {},
   "outputs": [],
   "source": []
  }
 ],
 "metadata": {
  "kernelspec": {
   "display_name": "Python 3 (ipykernel)",
   "language": "python",
   "name": "python3"
  },
  "language_info": {
   "codemirror_mode": {
    "name": "ipython",
    "version": 3
   },
   "file_extension": ".py",
   "mimetype": "text/x-python",
   "name": "python",
   "nbconvert_exporter": "python",
   "pygments_lexer": "ipython3",
   "version": "3.10.12"
  }
 },
 "nbformat": 4,
 "nbformat_minor": 4
}
